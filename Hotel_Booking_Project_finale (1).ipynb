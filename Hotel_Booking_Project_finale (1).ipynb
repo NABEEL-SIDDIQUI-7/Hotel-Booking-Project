{
  "cells": [
    {
      "cell_type": "markdown",
      "source": [
        "# Project Name - Hotel Booking Analysis\n",
        "**Project Summary -** The given dataset is of hotel booking. I explored and analyzed the given dataset and discovered some important factors regarding hotel booking. For this, I first read the given data in my collab notebook and then understand the whole data like what are variables in the given data. After that cleaned the data frame in data wrangling. For that I used some functions like drop(), fillna(), isna()/isnull() functions. Then I added some columns which are required in the analysis and removed some columns which are not required. Using this data frame I explored some variables using visualization charts like pie charts, count plots, barplot, and heatmaps and I can find out some insights which are important factors. From these insights, I can suggest some business objectives to clients."
      ],
      "metadata": {
        "id": "9vCRNPlqutTD"
      }
    },
    {
      "cell_type": "markdown",
      "source": [
        "**Problem Statement :-** In this project we are going to analyse Hotel Booking dataset. This dataset contains information of city hotel and resort hotel, and includes information of booking time, length of stay, number of adults, children and/or babies, also have information of avaliable parking space, among other thing.\n",
        "\n",
        "The objective of this project is explore and analyse the data to discover important factors regarding Hotels booking and its attributes."
      ],
      "metadata": {
        "id": "YsMWaWi8utKk"
      }
    },
    {
      "cell_type": "markdown",
      "source": [
        "# Variables Description \n",
        "**Hotel:** Type of hotel(City or Resort)\n",
        "\n",
        "**is_cancelled:** If the booking was cancelled(1) or not(0)\n",
        "\n",
        "**lead_time:** Number of days before the actual arrival of the guests\n",
        "\n",
        "**arrival_date_year:** Year of arrival date\n",
        "\n",
        "**arrival_date_month:** Month of arrival date\n",
        "\n",
        "**arrival_date_week_number:** Week number of year for arrival date\n",
        "\n",
        "**arrival_date_day_of_month:** Day of arrival date\n",
        "\n",
        "**stays_in_weekend_nights:** Number of weekend nights(Saturday or Sunday) spent at the hotel by the guests.\n",
        "\n",
        "**stays_in_weel_nights:** Number of weeknights(Monday to Friday) spent at the hotel by the guests.\n",
        "\n",
        "**adults:** Number of adults among the guests\n",
        "\n",
        "**children: ** Number of children\n",
        "\n",
        "**babies:** Number of babies\n",
        "\n",
        "**meal:** Type of meal booked\n",
        "\n",
        "**country:** country of the guests\n",
        "\n",
        "**market_segment:** Designation of market segment\n",
        "\n",
        "**distribution_channel:** Name of booking distribution channel\n",
        "\n",
        "**is_repeated_guest:** If the booking was from a repeated guest(1) or not(0)\n",
        "\n",
        "**previous_cancellation:** Number of previous bookings that were cancelled by the customer prior to the current booking\n",
        "\n",
        "**previous_bookings_not_cancelled:** Number of previous bookins not cancelled by the customer prior to the current bookin\n",
        "\n",
        "**reserved_room_type:** Code from room type reserved\n",
        "\n",
        "**assigned_room_type:** Code of room type assigned\n",
        "\n",
        "**booking_changes:** Number of changes made to the booking\n",
        "\n",
        "**deposit_type:** Type of deposite made by the guest\n",
        "\n",
        "**agent:** ID of travel agent who made the booking\n",
        "\n",
        "**comapny:** ID of the company that made the booking\n",
        "\n",
        "**days_in_waiting_list:** Number of the days the booking was in the waiting list\n",
        "\n",
        "**customer_type:** Type of customer, assuming one of four categories\n",
        "\n",
        "**adr:** Average daily rate\n",
        "\n",
        "**required_car_parking_spaces:** Number of car parking spaces required bt the \n",
        "customer\n",
        "\n",
        "**total_of_special_requesrs:** Number of special requests made by the customer\n",
        "\n",
        "**reservation_statuse:** Reservation status(Canceled, check-out or no-show)\n",
        "\n",
        "**reservation_status_date:** Date at which the last reservation status was updated"
      ],
      "metadata": {
        "id": "JCzcosQbu-i9"
      }
    },
    {
      "cell_type": "markdown",
      "source": [
        "# Let's Start"
      ],
      "metadata": {
        "id": "2YfhH4QVvIOB"
      }
    },
    {
      "cell_type": "code",
      "execution_count": 1,
      "metadata": {
        "id": "n1QwPHn4fNoH"
      },
      "outputs": [],
      "source": [
        "# Importing Libraries\n",
        "import pandas as pd\n",
        "import numpy as np\n",
        "import seaborn as sns\n",
        "import matplotlib.pyplot as plt\n",
        "%matplotlib inline"
      ]
    },
    {
      "cell_type": "code",
      "execution_count": 2,
      "metadata": {
        "colab": {
          "base_uri": "https://localhost:8080/",
          "height": 661
        },
        "id": "ri_tDXyFgSI-",
        "outputId": "e5a43f63-016a-4890-e15c-4be48c4ad625"
      },
      "outputs": [
        {
          "output_type": "execute_result",
          "data": {
            "text/plain": [
              "               hotel  is_canceled  lead_time  arrival_date_year  \\\n",
              "0       Resort Hotel            0        342               2015   \n",
              "1       Resort Hotel            0        737               2015   \n",
              "2       Resort Hotel            0          7               2015   \n",
              "3       Resort Hotel            0         13               2015   \n",
              "4       Resort Hotel            0         14               2015   \n",
              "...              ...          ...        ...                ...   \n",
              "119385    City Hotel            0         23               2017   \n",
              "119386    City Hotel            0        102               2017   \n",
              "119387    City Hotel            0         34               2017   \n",
              "119388    City Hotel            0        109               2017   \n",
              "119389    City Hotel            0        205               2017   \n",
              "\n",
              "       arrival_date_month  arrival_date_week_number  \\\n",
              "0                    July                        27   \n",
              "1                    July                        27   \n",
              "2                    July                        27   \n",
              "3                    July                        27   \n",
              "4                    July                        27   \n",
              "...                   ...                       ...   \n",
              "119385             August                        35   \n",
              "119386             August                        35   \n",
              "119387             August                        35   \n",
              "119388             August                        35   \n",
              "119389             August                        35   \n",
              "\n",
              "        arrival_date_day_of_month  stays_in_weekend_nights  \\\n",
              "0                               1                        0   \n",
              "1                               1                        0   \n",
              "2                               1                        0   \n",
              "3                               1                        0   \n",
              "4                               1                        0   \n",
              "...                           ...                      ...   \n",
              "119385                         30                        2   \n",
              "119386                         31                        2   \n",
              "119387                         31                        2   \n",
              "119388                         31                        2   \n",
              "119389                         29                        2   \n",
              "\n",
              "        stays_in_week_nights  adults  ...  deposit_type  agent company  \\\n",
              "0                          0       2  ...    No Deposit    NaN     NaN   \n",
              "1                          0       2  ...    No Deposit    NaN     NaN   \n",
              "2                          1       1  ...    No Deposit    NaN     NaN   \n",
              "3                          1       1  ...    No Deposit  304.0     NaN   \n",
              "4                          2       2  ...    No Deposit  240.0     NaN   \n",
              "...                      ...     ...  ...           ...    ...     ...   \n",
              "119385                     5       2  ...    No Deposit  394.0     NaN   \n",
              "119386                     5       3  ...    No Deposit    9.0     NaN   \n",
              "119387                     5       2  ...    No Deposit    9.0     NaN   \n",
              "119388                     5       2  ...    No Deposit   89.0     NaN   \n",
              "119389                     7       2  ...    No Deposit    9.0     NaN   \n",
              "\n",
              "       days_in_waiting_list customer_type     adr  \\\n",
              "0                         0     Transient    0.00   \n",
              "1                         0     Transient    0.00   \n",
              "2                         0     Transient   75.00   \n",
              "3                         0     Transient   75.00   \n",
              "4                         0     Transient   98.00   \n",
              "...                     ...           ...     ...   \n",
              "119385                    0     Transient   96.14   \n",
              "119386                    0     Transient  225.43   \n",
              "119387                    0     Transient  157.71   \n",
              "119388                    0     Transient  104.40   \n",
              "119389                    0     Transient  151.20   \n",
              "\n",
              "        required_car_parking_spaces  total_of_special_requests  \\\n",
              "0                                 0                          0   \n",
              "1                                 0                          0   \n",
              "2                                 0                          0   \n",
              "3                                 0                          0   \n",
              "4                                 0                          1   \n",
              "...                             ...                        ...   \n",
              "119385                            0                          0   \n",
              "119386                            0                          2   \n",
              "119387                            0                          4   \n",
              "119388                            0                          0   \n",
              "119389                            0                          2   \n",
              "\n",
              "        reservation_status reservation_status_date  \n",
              "0                Check-Out                1/7/2015  \n",
              "1                Check-Out                1/7/2015  \n",
              "2                Check-Out                2/7/2015  \n",
              "3                Check-Out                2/7/2015  \n",
              "4                Check-Out                3/7/2015  \n",
              "...                    ...                     ...  \n",
              "119385           Check-Out                6/9/2017  \n",
              "119386           Check-Out                7/9/2017  \n",
              "119387           Check-Out                7/9/2017  \n",
              "119388           Check-Out                7/9/2017  \n",
              "119389           Check-Out                7/9/2017  \n",
              "\n",
              "[119390 rows x 32 columns]"
            ],
            "text/html": [
              "\n",
              "  <div id=\"df-ed81cc40-9421-4490-81c7-b64dfb06cade\">\n",
              "    <div class=\"colab-df-container\">\n",
              "      <div>\n",
              "<style scoped>\n",
              "    .dataframe tbody tr th:only-of-type {\n",
              "        vertical-align: middle;\n",
              "    }\n",
              "\n",
              "    .dataframe tbody tr th {\n",
              "        vertical-align: top;\n",
              "    }\n",
              "\n",
              "    .dataframe thead th {\n",
              "        text-align: right;\n",
              "    }\n",
              "</style>\n",
              "<table border=\"1\" class=\"dataframe\">\n",
              "  <thead>\n",
              "    <tr style=\"text-align: right;\">\n",
              "      <th></th>\n",
              "      <th>hotel</th>\n",
              "      <th>is_canceled</th>\n",
              "      <th>lead_time</th>\n",
              "      <th>arrival_date_year</th>\n",
              "      <th>arrival_date_month</th>\n",
              "      <th>arrival_date_week_number</th>\n",
              "      <th>arrival_date_day_of_month</th>\n",
              "      <th>stays_in_weekend_nights</th>\n",
              "      <th>stays_in_week_nights</th>\n",
              "      <th>adults</th>\n",
              "      <th>...</th>\n",
              "      <th>deposit_type</th>\n",
              "      <th>agent</th>\n",
              "      <th>company</th>\n",
              "      <th>days_in_waiting_list</th>\n",
              "      <th>customer_type</th>\n",
              "      <th>adr</th>\n",
              "      <th>required_car_parking_spaces</th>\n",
              "      <th>total_of_special_requests</th>\n",
              "      <th>reservation_status</th>\n",
              "      <th>reservation_status_date</th>\n",
              "    </tr>\n",
              "  </thead>\n",
              "  <tbody>\n",
              "    <tr>\n",
              "      <th>0</th>\n",
              "      <td>Resort Hotel</td>\n",
              "      <td>0</td>\n",
              "      <td>342</td>\n",
              "      <td>2015</td>\n",
              "      <td>July</td>\n",
              "      <td>27</td>\n",
              "      <td>1</td>\n",
              "      <td>0</td>\n",
              "      <td>0</td>\n",
              "      <td>2</td>\n",
              "      <td>...</td>\n",
              "      <td>No Deposit</td>\n",
              "      <td>NaN</td>\n",
              "      <td>NaN</td>\n",
              "      <td>0</td>\n",
              "      <td>Transient</td>\n",
              "      <td>0.00</td>\n",
              "      <td>0</td>\n",
              "      <td>0</td>\n",
              "      <td>Check-Out</td>\n",
              "      <td>1/7/2015</td>\n",
              "    </tr>\n",
              "    <tr>\n",
              "      <th>1</th>\n",
              "      <td>Resort Hotel</td>\n",
              "      <td>0</td>\n",
              "      <td>737</td>\n",
              "      <td>2015</td>\n",
              "      <td>July</td>\n",
              "      <td>27</td>\n",
              "      <td>1</td>\n",
              "      <td>0</td>\n",
              "      <td>0</td>\n",
              "      <td>2</td>\n",
              "      <td>...</td>\n",
              "      <td>No Deposit</td>\n",
              "      <td>NaN</td>\n",
              "      <td>NaN</td>\n",
              "      <td>0</td>\n",
              "      <td>Transient</td>\n",
              "      <td>0.00</td>\n",
              "      <td>0</td>\n",
              "      <td>0</td>\n",
              "      <td>Check-Out</td>\n",
              "      <td>1/7/2015</td>\n",
              "    </tr>\n",
              "    <tr>\n",
              "      <th>2</th>\n",
              "      <td>Resort Hotel</td>\n",
              "      <td>0</td>\n",
              "      <td>7</td>\n",
              "      <td>2015</td>\n",
              "      <td>July</td>\n",
              "      <td>27</td>\n",
              "      <td>1</td>\n",
              "      <td>0</td>\n",
              "      <td>1</td>\n",
              "      <td>1</td>\n",
              "      <td>...</td>\n",
              "      <td>No Deposit</td>\n",
              "      <td>NaN</td>\n",
              "      <td>NaN</td>\n",
              "      <td>0</td>\n",
              "      <td>Transient</td>\n",
              "      <td>75.00</td>\n",
              "      <td>0</td>\n",
              "      <td>0</td>\n",
              "      <td>Check-Out</td>\n",
              "      <td>2/7/2015</td>\n",
              "    </tr>\n",
              "    <tr>\n",
              "      <th>3</th>\n",
              "      <td>Resort Hotel</td>\n",
              "      <td>0</td>\n",
              "      <td>13</td>\n",
              "      <td>2015</td>\n",
              "      <td>July</td>\n",
              "      <td>27</td>\n",
              "      <td>1</td>\n",
              "      <td>0</td>\n",
              "      <td>1</td>\n",
              "      <td>1</td>\n",
              "      <td>...</td>\n",
              "      <td>No Deposit</td>\n",
              "      <td>304.0</td>\n",
              "      <td>NaN</td>\n",
              "      <td>0</td>\n",
              "      <td>Transient</td>\n",
              "      <td>75.00</td>\n",
              "      <td>0</td>\n",
              "      <td>0</td>\n",
              "      <td>Check-Out</td>\n",
              "      <td>2/7/2015</td>\n",
              "    </tr>\n",
              "    <tr>\n",
              "      <th>4</th>\n",
              "      <td>Resort Hotel</td>\n",
              "      <td>0</td>\n",
              "      <td>14</td>\n",
              "      <td>2015</td>\n",
              "      <td>July</td>\n",
              "      <td>27</td>\n",
              "      <td>1</td>\n",
              "      <td>0</td>\n",
              "      <td>2</td>\n",
              "      <td>2</td>\n",
              "      <td>...</td>\n",
              "      <td>No Deposit</td>\n",
              "      <td>240.0</td>\n",
              "      <td>NaN</td>\n",
              "      <td>0</td>\n",
              "      <td>Transient</td>\n",
              "      <td>98.00</td>\n",
              "      <td>0</td>\n",
              "      <td>1</td>\n",
              "      <td>Check-Out</td>\n",
              "      <td>3/7/2015</td>\n",
              "    </tr>\n",
              "    <tr>\n",
              "      <th>...</th>\n",
              "      <td>...</td>\n",
              "      <td>...</td>\n",
              "      <td>...</td>\n",
              "      <td>...</td>\n",
              "      <td>...</td>\n",
              "      <td>...</td>\n",
              "      <td>...</td>\n",
              "      <td>...</td>\n",
              "      <td>...</td>\n",
              "      <td>...</td>\n",
              "      <td>...</td>\n",
              "      <td>...</td>\n",
              "      <td>...</td>\n",
              "      <td>...</td>\n",
              "      <td>...</td>\n",
              "      <td>...</td>\n",
              "      <td>...</td>\n",
              "      <td>...</td>\n",
              "      <td>...</td>\n",
              "      <td>...</td>\n",
              "      <td>...</td>\n",
              "    </tr>\n",
              "    <tr>\n",
              "      <th>119385</th>\n",
              "      <td>City Hotel</td>\n",
              "      <td>0</td>\n",
              "      <td>23</td>\n",
              "      <td>2017</td>\n",
              "      <td>August</td>\n",
              "      <td>35</td>\n",
              "      <td>30</td>\n",
              "      <td>2</td>\n",
              "      <td>5</td>\n",
              "      <td>2</td>\n",
              "      <td>...</td>\n",
              "      <td>No Deposit</td>\n",
              "      <td>394.0</td>\n",
              "      <td>NaN</td>\n",
              "      <td>0</td>\n",
              "      <td>Transient</td>\n",
              "      <td>96.14</td>\n",
              "      <td>0</td>\n",
              "      <td>0</td>\n",
              "      <td>Check-Out</td>\n",
              "      <td>6/9/2017</td>\n",
              "    </tr>\n",
              "    <tr>\n",
              "      <th>119386</th>\n",
              "      <td>City Hotel</td>\n",
              "      <td>0</td>\n",
              "      <td>102</td>\n",
              "      <td>2017</td>\n",
              "      <td>August</td>\n",
              "      <td>35</td>\n",
              "      <td>31</td>\n",
              "      <td>2</td>\n",
              "      <td>5</td>\n",
              "      <td>3</td>\n",
              "      <td>...</td>\n",
              "      <td>No Deposit</td>\n",
              "      <td>9.0</td>\n",
              "      <td>NaN</td>\n",
              "      <td>0</td>\n",
              "      <td>Transient</td>\n",
              "      <td>225.43</td>\n",
              "      <td>0</td>\n",
              "      <td>2</td>\n",
              "      <td>Check-Out</td>\n",
              "      <td>7/9/2017</td>\n",
              "    </tr>\n",
              "    <tr>\n",
              "      <th>119387</th>\n",
              "      <td>City Hotel</td>\n",
              "      <td>0</td>\n",
              "      <td>34</td>\n",
              "      <td>2017</td>\n",
              "      <td>August</td>\n",
              "      <td>35</td>\n",
              "      <td>31</td>\n",
              "      <td>2</td>\n",
              "      <td>5</td>\n",
              "      <td>2</td>\n",
              "      <td>...</td>\n",
              "      <td>No Deposit</td>\n",
              "      <td>9.0</td>\n",
              "      <td>NaN</td>\n",
              "      <td>0</td>\n",
              "      <td>Transient</td>\n",
              "      <td>157.71</td>\n",
              "      <td>0</td>\n",
              "      <td>4</td>\n",
              "      <td>Check-Out</td>\n",
              "      <td>7/9/2017</td>\n",
              "    </tr>\n",
              "    <tr>\n",
              "      <th>119388</th>\n",
              "      <td>City Hotel</td>\n",
              "      <td>0</td>\n",
              "      <td>109</td>\n",
              "      <td>2017</td>\n",
              "      <td>August</td>\n",
              "      <td>35</td>\n",
              "      <td>31</td>\n",
              "      <td>2</td>\n",
              "      <td>5</td>\n",
              "      <td>2</td>\n",
              "      <td>...</td>\n",
              "      <td>No Deposit</td>\n",
              "      <td>89.0</td>\n",
              "      <td>NaN</td>\n",
              "      <td>0</td>\n",
              "      <td>Transient</td>\n",
              "      <td>104.40</td>\n",
              "      <td>0</td>\n",
              "      <td>0</td>\n",
              "      <td>Check-Out</td>\n",
              "      <td>7/9/2017</td>\n",
              "    </tr>\n",
              "    <tr>\n",
              "      <th>119389</th>\n",
              "      <td>City Hotel</td>\n",
              "      <td>0</td>\n",
              "      <td>205</td>\n",
              "      <td>2017</td>\n",
              "      <td>August</td>\n",
              "      <td>35</td>\n",
              "      <td>29</td>\n",
              "      <td>2</td>\n",
              "      <td>7</td>\n",
              "      <td>2</td>\n",
              "      <td>...</td>\n",
              "      <td>No Deposit</td>\n",
              "      <td>9.0</td>\n",
              "      <td>NaN</td>\n",
              "      <td>0</td>\n",
              "      <td>Transient</td>\n",
              "      <td>151.20</td>\n",
              "      <td>0</td>\n",
              "      <td>2</td>\n",
              "      <td>Check-Out</td>\n",
              "      <td>7/9/2017</td>\n",
              "    </tr>\n",
              "  </tbody>\n",
              "</table>\n",
              "<p>119390 rows × 32 columns</p>\n",
              "</div>\n",
              "      <button class=\"colab-df-convert\" onclick=\"convertToInteractive('df-ed81cc40-9421-4490-81c7-b64dfb06cade')\"\n",
              "              title=\"Convert this dataframe to an interactive table.\"\n",
              "              style=\"display:none;\">\n",
              "        \n",
              "  <svg xmlns=\"http://www.w3.org/2000/svg\" height=\"24px\"viewBox=\"0 0 24 24\"\n",
              "       width=\"24px\">\n",
              "    <path d=\"M0 0h24v24H0V0z\" fill=\"none\"/>\n",
              "    <path d=\"M18.56 5.44l.94 2.06.94-2.06 2.06-.94-2.06-.94-.94-2.06-.94 2.06-2.06.94zm-11 1L8.5 8.5l.94-2.06 2.06-.94-2.06-.94L8.5 2.5l-.94 2.06-2.06.94zm10 10l.94 2.06.94-2.06 2.06-.94-2.06-.94-.94-2.06-.94 2.06-2.06.94z\"/><path d=\"M17.41 7.96l-1.37-1.37c-.4-.4-.92-.59-1.43-.59-.52 0-1.04.2-1.43.59L10.3 9.45l-7.72 7.72c-.78.78-.78 2.05 0 2.83L4 21.41c.39.39.9.59 1.41.59.51 0 1.02-.2 1.41-.59l7.78-7.78 2.81-2.81c.8-.78.8-2.07 0-2.86zM5.41 20L4 18.59l7.72-7.72 1.47 1.35L5.41 20z\"/>\n",
              "  </svg>\n",
              "      </button>\n",
              "      \n",
              "  <style>\n",
              "    .colab-df-container {\n",
              "      display:flex;\n",
              "      flex-wrap:wrap;\n",
              "      gap: 12px;\n",
              "    }\n",
              "\n",
              "    .colab-df-convert {\n",
              "      background-color: #E8F0FE;\n",
              "      border: none;\n",
              "      border-radius: 50%;\n",
              "      cursor: pointer;\n",
              "      display: none;\n",
              "      fill: #1967D2;\n",
              "      height: 32px;\n",
              "      padding: 0 0 0 0;\n",
              "      width: 32px;\n",
              "    }\n",
              "\n",
              "    .colab-df-convert:hover {\n",
              "      background-color: #E2EBFA;\n",
              "      box-shadow: 0px 1px 2px rgba(60, 64, 67, 0.3), 0px 1px 3px 1px rgba(60, 64, 67, 0.15);\n",
              "      fill: #174EA6;\n",
              "    }\n",
              "\n",
              "    [theme=dark] .colab-df-convert {\n",
              "      background-color: #3B4455;\n",
              "      fill: #D2E3FC;\n",
              "    }\n",
              "\n",
              "    [theme=dark] .colab-df-convert:hover {\n",
              "      background-color: #434B5C;\n",
              "      box-shadow: 0px 1px 3px 1px rgba(0, 0, 0, 0.15);\n",
              "      filter: drop-shadow(0px 1px 2px rgba(0, 0, 0, 0.3));\n",
              "      fill: #FFFFFF;\n",
              "    }\n",
              "  </style>\n",
              "\n",
              "      <script>\n",
              "        const buttonEl =\n",
              "          document.querySelector('#df-ed81cc40-9421-4490-81c7-b64dfb06cade button.colab-df-convert');\n",
              "        buttonEl.style.display =\n",
              "          google.colab.kernel.accessAllowed ? 'block' : 'none';\n",
              "\n",
              "        async function convertToInteractive(key) {\n",
              "          const element = document.querySelector('#df-ed81cc40-9421-4490-81c7-b64dfb06cade');\n",
              "          const dataTable =\n",
              "            await google.colab.kernel.invokeFunction('convertToInteractive',\n",
              "                                                     [key], {});\n",
              "          if (!dataTable) return;\n",
              "\n",
              "          const docLinkHtml = 'Like what you see? Visit the ' +\n",
              "            '<a target=\"_blank\" href=https://colab.research.google.com/notebooks/data_table.ipynb>data table notebook</a>'\n",
              "            + ' to learn more about interactive tables.';\n",
              "          element.innerHTML = '';\n",
              "          dataTable['output_type'] = 'display_data';\n",
              "          await google.colab.output.renderOutput(dataTable, element);\n",
              "          const docLink = document.createElement('div');\n",
              "          docLink.innerHTML = docLinkHtml;\n",
              "          element.appendChild(docLink);\n",
              "        }\n",
              "      </script>\n",
              "    </div>\n",
              "  </div>\n",
              "  "
            ]
          },
          "metadata": {},
          "execution_count": 2
        }
      ],
      "source": [
        "# Importing Dataset\n",
        "df=pd.read_csv(\"/content/hotel_bookings.csv\")\n",
        "df"
      ]
    },
    {
      "cell_type": "markdown",
      "metadata": {
        "id": "dVDBatXxgdp4"
      },
      "source": [
        "# Exploratory Data Analysis and Data cleaning"
      ]
    },
    {
      "cell_type": "code",
      "execution_count": 3,
      "metadata": {
        "colab": {
          "base_uri": "https://localhost:8080/"
        },
        "id": "CjxZA8m0gSLl",
        "outputId": "caed04e7-1fc0-427f-9a60-352b8c19e3c2"
      },
      "outputs": [
        {
          "output_type": "execute_result",
          "data": {
            "text/plain": [
              "(119390, 32)"
            ]
          },
          "metadata": {},
          "execution_count": 3
        }
      ],
      "source": [
        "df.shape"
      ]
    },
    {
      "cell_type": "code",
      "execution_count": 4,
      "metadata": {
        "colab": {
          "base_uri": "https://localhost:8080/"
        },
        "id": "jw9KtoCGgSOd",
        "outputId": "5dd6eb04-f04b-4d58-cbee-f55d20ed0ffa"
      },
      "outputs": [
        {
          "output_type": "stream",
          "name": "stdout",
          "text": [
            "<class 'pandas.core.frame.DataFrame'>\n",
            "RangeIndex: 119390 entries, 0 to 119389\n",
            "Data columns (total 32 columns):\n",
            " #   Column                          Non-Null Count   Dtype  \n",
            "---  ------                          --------------   -----  \n",
            " 0   hotel                           119390 non-null  object \n",
            " 1   is_canceled                     119390 non-null  int64  \n",
            " 2   lead_time                       119390 non-null  int64  \n",
            " 3   arrival_date_year               119390 non-null  int64  \n",
            " 4   arrival_date_month              119390 non-null  object \n",
            " 5   arrival_date_week_number        119390 non-null  int64  \n",
            " 6   arrival_date_day_of_month       119390 non-null  int64  \n",
            " 7   stays_in_weekend_nights         119390 non-null  int64  \n",
            " 8   stays_in_week_nights            119390 non-null  int64  \n",
            " 9   adults                          119390 non-null  int64  \n",
            " 10  children                        119386 non-null  float64\n",
            " 11  babies                          119390 non-null  int64  \n",
            " 12  meal                            119390 non-null  object \n",
            " 13  country                         118902 non-null  object \n",
            " 14  market_segment                  119390 non-null  object \n",
            " 15  distribution_channel            119390 non-null  object \n",
            " 16  is_repeated_guest               119390 non-null  int64  \n",
            " 17  previous_cancellations          119390 non-null  int64  \n",
            " 18  previous_bookings_not_canceled  119390 non-null  int64  \n",
            " 19  reserved_room_type              119390 non-null  object \n",
            " 20  assigned_room_type              119390 non-null  object \n",
            " 21  booking_changes                 119390 non-null  int64  \n",
            " 22  deposit_type                    119390 non-null  object \n",
            " 23  agent                           103050 non-null  float64\n",
            " 24  company                         6797 non-null    float64\n",
            " 25  days_in_waiting_list            119390 non-null  int64  \n",
            " 26  customer_type                   119390 non-null  object \n",
            " 27  adr                             119390 non-null  float64\n",
            " 28  required_car_parking_spaces     119390 non-null  int64  \n",
            " 29  total_of_special_requests       119390 non-null  int64  \n",
            " 30  reservation_status              119390 non-null  object \n",
            " 31  reservation_status_date         119390 non-null  object \n",
            "dtypes: float64(4), int64(16), object(12)\n",
            "memory usage: 29.1+ MB\n"
          ]
        }
      ],
      "source": [
        "df.info()"
      ]
    },
    {
      "cell_type": "code",
      "execution_count": 5,
      "metadata": {
        "colab": {
          "base_uri": "https://localhost:8080/",
          "height": 364
        },
        "id": "vnMGyf7BgSQf",
        "outputId": "d84cc46e-f02a-47f6-9238-c480b257161b"
      },
      "outputs": [
        {
          "output_type": "execute_result",
          "data": {
            "text/plain": [
              "         is_canceled      lead_time  arrival_date_year  \\\n",
              "count  119390.000000  119390.000000      119390.000000   \n",
              "mean        0.370416     104.011416        2016.156554   \n",
              "std         0.482918     106.863097           0.707476   \n",
              "min         0.000000       0.000000        2015.000000   \n",
              "25%         0.000000      18.000000        2016.000000   \n",
              "50%         0.000000      69.000000        2016.000000   \n",
              "75%         1.000000     160.000000        2017.000000   \n",
              "max         1.000000     737.000000        2017.000000   \n",
              "\n",
              "       arrival_date_week_number  arrival_date_day_of_month  \\\n",
              "count             119390.000000              119390.000000   \n",
              "mean                  27.165173                  15.798241   \n",
              "std                   13.605138                   8.780829   \n",
              "min                    1.000000                   1.000000   \n",
              "25%                   16.000000                   8.000000   \n",
              "50%                   28.000000                  16.000000   \n",
              "75%                   38.000000                  23.000000   \n",
              "max                   53.000000                  31.000000   \n",
              "\n",
              "       stays_in_weekend_nights  stays_in_week_nights         adults  \\\n",
              "count            119390.000000         119390.000000  119390.000000   \n",
              "mean                  0.927599              2.500302       1.856403   \n",
              "std                   0.998613              1.908286       0.579261   \n",
              "min                   0.000000              0.000000       0.000000   \n",
              "25%                   0.000000              1.000000       2.000000   \n",
              "50%                   1.000000              2.000000       2.000000   \n",
              "75%                   2.000000              3.000000       2.000000   \n",
              "max                  19.000000             50.000000      55.000000   \n",
              "\n",
              "            children         babies  is_repeated_guest  \\\n",
              "count  119386.000000  119390.000000      119390.000000   \n",
              "mean        0.103890       0.007949           0.031912   \n",
              "std         0.398561       0.097436           0.175767   \n",
              "min         0.000000       0.000000           0.000000   \n",
              "25%         0.000000       0.000000           0.000000   \n",
              "50%         0.000000       0.000000           0.000000   \n",
              "75%         0.000000       0.000000           0.000000   \n",
              "max        10.000000      10.000000           1.000000   \n",
              "\n",
              "       previous_cancellations  previous_bookings_not_canceled  \\\n",
              "count           119390.000000                   119390.000000   \n",
              "mean                 0.087118                        0.137097   \n",
              "std                  0.844336                        1.497437   \n",
              "min                  0.000000                        0.000000   \n",
              "25%                  0.000000                        0.000000   \n",
              "50%                  0.000000                        0.000000   \n",
              "75%                  0.000000                        0.000000   \n",
              "max                 26.000000                       72.000000   \n",
              "\n",
              "       booking_changes          agent      company  days_in_waiting_list  \\\n",
              "count    119390.000000  103050.000000  6797.000000         119390.000000   \n",
              "mean          0.221124      86.693382   189.266735              2.321149   \n",
              "std           0.652306     110.774548   131.655015             17.594721   \n",
              "min           0.000000       1.000000     6.000000              0.000000   \n",
              "25%           0.000000       9.000000    62.000000              0.000000   \n",
              "50%           0.000000      14.000000   179.000000              0.000000   \n",
              "75%           0.000000     229.000000   270.000000              0.000000   \n",
              "max          21.000000     535.000000   543.000000            391.000000   \n",
              "\n",
              "                 adr  required_car_parking_spaces  total_of_special_requests  \n",
              "count  119390.000000                119390.000000              119390.000000  \n",
              "mean      101.831122                     0.062518                   0.571363  \n",
              "std        50.535790                     0.245291                   0.792798  \n",
              "min        -6.380000                     0.000000                   0.000000  \n",
              "25%        69.290000                     0.000000                   0.000000  \n",
              "50%        94.575000                     0.000000                   0.000000  \n",
              "75%       126.000000                     0.000000                   1.000000  \n",
              "max      5400.000000                     8.000000                   5.000000  "
            ],
            "text/html": [
              "\n",
              "  <div id=\"df-5ee40936-234d-43a2-a6ba-3c5ec1ef3a1d\">\n",
              "    <div class=\"colab-df-container\">\n",
              "      <div>\n",
              "<style scoped>\n",
              "    .dataframe tbody tr th:only-of-type {\n",
              "        vertical-align: middle;\n",
              "    }\n",
              "\n",
              "    .dataframe tbody tr th {\n",
              "        vertical-align: top;\n",
              "    }\n",
              "\n",
              "    .dataframe thead th {\n",
              "        text-align: right;\n",
              "    }\n",
              "</style>\n",
              "<table border=\"1\" class=\"dataframe\">\n",
              "  <thead>\n",
              "    <tr style=\"text-align: right;\">\n",
              "      <th></th>\n",
              "      <th>is_canceled</th>\n",
              "      <th>lead_time</th>\n",
              "      <th>arrival_date_year</th>\n",
              "      <th>arrival_date_week_number</th>\n",
              "      <th>arrival_date_day_of_month</th>\n",
              "      <th>stays_in_weekend_nights</th>\n",
              "      <th>stays_in_week_nights</th>\n",
              "      <th>adults</th>\n",
              "      <th>children</th>\n",
              "      <th>babies</th>\n",
              "      <th>is_repeated_guest</th>\n",
              "      <th>previous_cancellations</th>\n",
              "      <th>previous_bookings_not_canceled</th>\n",
              "      <th>booking_changes</th>\n",
              "      <th>agent</th>\n",
              "      <th>company</th>\n",
              "      <th>days_in_waiting_list</th>\n",
              "      <th>adr</th>\n",
              "      <th>required_car_parking_spaces</th>\n",
              "      <th>total_of_special_requests</th>\n",
              "    </tr>\n",
              "  </thead>\n",
              "  <tbody>\n",
              "    <tr>\n",
              "      <th>count</th>\n",
              "      <td>119390.000000</td>\n",
              "      <td>119390.000000</td>\n",
              "      <td>119390.000000</td>\n",
              "      <td>119390.000000</td>\n",
              "      <td>119390.000000</td>\n",
              "      <td>119390.000000</td>\n",
              "      <td>119390.000000</td>\n",
              "      <td>119390.000000</td>\n",
              "      <td>119386.000000</td>\n",
              "      <td>119390.000000</td>\n",
              "      <td>119390.000000</td>\n",
              "      <td>119390.000000</td>\n",
              "      <td>119390.000000</td>\n",
              "      <td>119390.000000</td>\n",
              "      <td>103050.000000</td>\n",
              "      <td>6797.000000</td>\n",
              "      <td>119390.000000</td>\n",
              "      <td>119390.000000</td>\n",
              "      <td>119390.000000</td>\n",
              "      <td>119390.000000</td>\n",
              "    </tr>\n",
              "    <tr>\n",
              "      <th>mean</th>\n",
              "      <td>0.370416</td>\n",
              "      <td>104.011416</td>\n",
              "      <td>2016.156554</td>\n",
              "      <td>27.165173</td>\n",
              "      <td>15.798241</td>\n",
              "      <td>0.927599</td>\n",
              "      <td>2.500302</td>\n",
              "      <td>1.856403</td>\n",
              "      <td>0.103890</td>\n",
              "      <td>0.007949</td>\n",
              "      <td>0.031912</td>\n",
              "      <td>0.087118</td>\n",
              "      <td>0.137097</td>\n",
              "      <td>0.221124</td>\n",
              "      <td>86.693382</td>\n",
              "      <td>189.266735</td>\n",
              "      <td>2.321149</td>\n",
              "      <td>101.831122</td>\n",
              "      <td>0.062518</td>\n",
              "      <td>0.571363</td>\n",
              "    </tr>\n",
              "    <tr>\n",
              "      <th>std</th>\n",
              "      <td>0.482918</td>\n",
              "      <td>106.863097</td>\n",
              "      <td>0.707476</td>\n",
              "      <td>13.605138</td>\n",
              "      <td>8.780829</td>\n",
              "      <td>0.998613</td>\n",
              "      <td>1.908286</td>\n",
              "      <td>0.579261</td>\n",
              "      <td>0.398561</td>\n",
              "      <td>0.097436</td>\n",
              "      <td>0.175767</td>\n",
              "      <td>0.844336</td>\n",
              "      <td>1.497437</td>\n",
              "      <td>0.652306</td>\n",
              "      <td>110.774548</td>\n",
              "      <td>131.655015</td>\n",
              "      <td>17.594721</td>\n",
              "      <td>50.535790</td>\n",
              "      <td>0.245291</td>\n",
              "      <td>0.792798</td>\n",
              "    </tr>\n",
              "    <tr>\n",
              "      <th>min</th>\n",
              "      <td>0.000000</td>\n",
              "      <td>0.000000</td>\n",
              "      <td>2015.000000</td>\n",
              "      <td>1.000000</td>\n",
              "      <td>1.000000</td>\n",
              "      <td>0.000000</td>\n",
              "      <td>0.000000</td>\n",
              "      <td>0.000000</td>\n",
              "      <td>0.000000</td>\n",
              "      <td>0.000000</td>\n",
              "      <td>0.000000</td>\n",
              "      <td>0.000000</td>\n",
              "      <td>0.000000</td>\n",
              "      <td>0.000000</td>\n",
              "      <td>1.000000</td>\n",
              "      <td>6.000000</td>\n",
              "      <td>0.000000</td>\n",
              "      <td>-6.380000</td>\n",
              "      <td>0.000000</td>\n",
              "      <td>0.000000</td>\n",
              "    </tr>\n",
              "    <tr>\n",
              "      <th>25%</th>\n",
              "      <td>0.000000</td>\n",
              "      <td>18.000000</td>\n",
              "      <td>2016.000000</td>\n",
              "      <td>16.000000</td>\n",
              "      <td>8.000000</td>\n",
              "      <td>0.000000</td>\n",
              "      <td>1.000000</td>\n",
              "      <td>2.000000</td>\n",
              "      <td>0.000000</td>\n",
              "      <td>0.000000</td>\n",
              "      <td>0.000000</td>\n",
              "      <td>0.000000</td>\n",
              "      <td>0.000000</td>\n",
              "      <td>0.000000</td>\n",
              "      <td>9.000000</td>\n",
              "      <td>62.000000</td>\n",
              "      <td>0.000000</td>\n",
              "      <td>69.290000</td>\n",
              "      <td>0.000000</td>\n",
              "      <td>0.000000</td>\n",
              "    </tr>\n",
              "    <tr>\n",
              "      <th>50%</th>\n",
              "      <td>0.000000</td>\n",
              "      <td>69.000000</td>\n",
              "      <td>2016.000000</td>\n",
              "      <td>28.000000</td>\n",
              "      <td>16.000000</td>\n",
              "      <td>1.000000</td>\n",
              "      <td>2.000000</td>\n",
              "      <td>2.000000</td>\n",
              "      <td>0.000000</td>\n",
              "      <td>0.000000</td>\n",
              "      <td>0.000000</td>\n",
              "      <td>0.000000</td>\n",
              "      <td>0.000000</td>\n",
              "      <td>0.000000</td>\n",
              "      <td>14.000000</td>\n",
              "      <td>179.000000</td>\n",
              "      <td>0.000000</td>\n",
              "      <td>94.575000</td>\n",
              "      <td>0.000000</td>\n",
              "      <td>0.000000</td>\n",
              "    </tr>\n",
              "    <tr>\n",
              "      <th>75%</th>\n",
              "      <td>1.000000</td>\n",
              "      <td>160.000000</td>\n",
              "      <td>2017.000000</td>\n",
              "      <td>38.000000</td>\n",
              "      <td>23.000000</td>\n",
              "      <td>2.000000</td>\n",
              "      <td>3.000000</td>\n",
              "      <td>2.000000</td>\n",
              "      <td>0.000000</td>\n",
              "      <td>0.000000</td>\n",
              "      <td>0.000000</td>\n",
              "      <td>0.000000</td>\n",
              "      <td>0.000000</td>\n",
              "      <td>0.000000</td>\n",
              "      <td>229.000000</td>\n",
              "      <td>270.000000</td>\n",
              "      <td>0.000000</td>\n",
              "      <td>126.000000</td>\n",
              "      <td>0.000000</td>\n",
              "      <td>1.000000</td>\n",
              "    </tr>\n",
              "    <tr>\n",
              "      <th>max</th>\n",
              "      <td>1.000000</td>\n",
              "      <td>737.000000</td>\n",
              "      <td>2017.000000</td>\n",
              "      <td>53.000000</td>\n",
              "      <td>31.000000</td>\n",
              "      <td>19.000000</td>\n",
              "      <td>50.000000</td>\n",
              "      <td>55.000000</td>\n",
              "      <td>10.000000</td>\n",
              "      <td>10.000000</td>\n",
              "      <td>1.000000</td>\n",
              "      <td>26.000000</td>\n",
              "      <td>72.000000</td>\n",
              "      <td>21.000000</td>\n",
              "      <td>535.000000</td>\n",
              "      <td>543.000000</td>\n",
              "      <td>391.000000</td>\n",
              "      <td>5400.000000</td>\n",
              "      <td>8.000000</td>\n",
              "      <td>5.000000</td>\n",
              "    </tr>\n",
              "  </tbody>\n",
              "</table>\n",
              "</div>\n",
              "      <button class=\"colab-df-convert\" onclick=\"convertToInteractive('df-5ee40936-234d-43a2-a6ba-3c5ec1ef3a1d')\"\n",
              "              title=\"Convert this dataframe to an interactive table.\"\n",
              "              style=\"display:none;\">\n",
              "        \n",
              "  <svg xmlns=\"http://www.w3.org/2000/svg\" height=\"24px\"viewBox=\"0 0 24 24\"\n",
              "       width=\"24px\">\n",
              "    <path d=\"M0 0h24v24H0V0z\" fill=\"none\"/>\n",
              "    <path d=\"M18.56 5.44l.94 2.06.94-2.06 2.06-.94-2.06-.94-.94-2.06-.94 2.06-2.06.94zm-11 1L8.5 8.5l.94-2.06 2.06-.94-2.06-.94L8.5 2.5l-.94 2.06-2.06.94zm10 10l.94 2.06.94-2.06 2.06-.94-2.06-.94-.94-2.06-.94 2.06-2.06.94z\"/><path d=\"M17.41 7.96l-1.37-1.37c-.4-.4-.92-.59-1.43-.59-.52 0-1.04.2-1.43.59L10.3 9.45l-7.72 7.72c-.78.78-.78 2.05 0 2.83L4 21.41c.39.39.9.59 1.41.59.51 0 1.02-.2 1.41-.59l7.78-7.78 2.81-2.81c.8-.78.8-2.07 0-2.86zM5.41 20L4 18.59l7.72-7.72 1.47 1.35L5.41 20z\"/>\n",
              "  </svg>\n",
              "      </button>\n",
              "      \n",
              "  <style>\n",
              "    .colab-df-container {\n",
              "      display:flex;\n",
              "      flex-wrap:wrap;\n",
              "      gap: 12px;\n",
              "    }\n",
              "\n",
              "    .colab-df-convert {\n",
              "      background-color: #E8F0FE;\n",
              "      border: none;\n",
              "      border-radius: 50%;\n",
              "      cursor: pointer;\n",
              "      display: none;\n",
              "      fill: #1967D2;\n",
              "      height: 32px;\n",
              "      padding: 0 0 0 0;\n",
              "      width: 32px;\n",
              "    }\n",
              "\n",
              "    .colab-df-convert:hover {\n",
              "      background-color: #E2EBFA;\n",
              "      box-shadow: 0px 1px 2px rgba(60, 64, 67, 0.3), 0px 1px 3px 1px rgba(60, 64, 67, 0.15);\n",
              "      fill: #174EA6;\n",
              "    }\n",
              "\n",
              "    [theme=dark] .colab-df-convert {\n",
              "      background-color: #3B4455;\n",
              "      fill: #D2E3FC;\n",
              "    }\n",
              "\n",
              "    [theme=dark] .colab-df-convert:hover {\n",
              "      background-color: #434B5C;\n",
              "      box-shadow: 0px 1px 3px 1px rgba(0, 0, 0, 0.15);\n",
              "      filter: drop-shadow(0px 1px 2px rgba(0, 0, 0, 0.3));\n",
              "      fill: #FFFFFF;\n",
              "    }\n",
              "  </style>\n",
              "\n",
              "      <script>\n",
              "        const buttonEl =\n",
              "          document.querySelector('#df-5ee40936-234d-43a2-a6ba-3c5ec1ef3a1d button.colab-df-convert');\n",
              "        buttonEl.style.display =\n",
              "          google.colab.kernel.accessAllowed ? 'block' : 'none';\n",
              "\n",
              "        async function convertToInteractive(key) {\n",
              "          const element = document.querySelector('#df-5ee40936-234d-43a2-a6ba-3c5ec1ef3a1d');\n",
              "          const dataTable =\n",
              "            await google.colab.kernel.invokeFunction('convertToInteractive',\n",
              "                                                     [key], {});\n",
              "          if (!dataTable) return;\n",
              "\n",
              "          const docLinkHtml = 'Like what you see? Visit the ' +\n",
              "            '<a target=\"_blank\" href=https://colab.research.google.com/notebooks/data_table.ipynb>data table notebook</a>'\n",
              "            + ' to learn more about interactive tables.';\n",
              "          element.innerHTML = '';\n",
              "          dataTable['output_type'] = 'display_data';\n",
              "          await google.colab.output.renderOutput(dataTable, element);\n",
              "          const docLink = document.createElement('div');\n",
              "          docLink.innerHTML = docLinkHtml;\n",
              "          element.appendChild(docLink);\n",
              "        }\n",
              "      </script>\n",
              "    </div>\n",
              "  </div>\n",
              "  "
            ]
          },
          "metadata": {},
          "execution_count": 5
        }
      ],
      "source": [
        "df.describe()"
      ]
    },
    {
      "cell_type": "code",
      "source": [
        "for col in df.describe(include= \"object\").columns:\n",
        "    print(col)\n",
        "    print(df[col].unique())\n",
        "    print(\"-\"*50)"
      ],
      "metadata": {
        "colab": {
          "base_uri": "https://localhost:8080/"
        },
        "id": "b8hw9fSjiy1E",
        "outputId": "0f30bc39-47aa-47d5-86dd-d9dc60eb5a54"
      },
      "execution_count": 6,
      "outputs": [
        {
          "output_type": "stream",
          "name": "stdout",
          "text": [
            "hotel\n",
            "['Resort Hotel' 'City Hotel']\n",
            "--------------------------------------------------\n",
            "arrival_date_month\n",
            "['July' 'August' 'September' 'October' 'November' 'December' 'January'\n",
            " 'February' 'March' 'April' 'May' 'June']\n",
            "--------------------------------------------------\n",
            "meal\n",
            "['BB' 'FB' 'HB' 'SC' 'Undefined']\n",
            "--------------------------------------------------\n",
            "country\n",
            "['PRT' 'GBR' 'USA' 'ESP' 'IRL' 'FRA' nan 'ROU' 'NOR' 'OMN' 'ARG' 'POL'\n",
            " 'DEU' 'BEL' 'CHE' 'CN' 'GRC' 'ITA' 'NLD' 'DNK' 'RUS' 'SWE' 'AUS' 'EST'\n",
            " 'CZE' 'BRA' 'FIN' 'MOZ' 'BWA' 'LUX' 'SVN' 'ALB' 'IND' 'CHN' 'MEX' 'MAR'\n",
            " 'UKR' 'SMR' 'LVA' 'PRI' 'SRB' 'CHL' 'AUT' 'BLR' 'LTU' 'TUR' 'ZAF' 'AGO'\n",
            " 'ISR' 'CYM' 'ZMB' 'CPV' 'ZWE' 'DZA' 'KOR' 'CRI' 'HUN' 'ARE' 'TUN' 'JAM'\n",
            " 'HRV' 'HKG' 'IRN' 'GEO' 'AND' 'GIB' 'URY' 'JEY' 'CAF' 'CYP' 'COL' 'GGY'\n",
            " 'KWT' 'NGA' 'MDV' 'VEN' 'SVK' 'FJI' 'KAZ' 'PAK' 'IDN' 'LBN' 'PHL' 'SEN'\n",
            " 'SYC' 'AZE' 'BHR' 'NZL' 'THA' 'DOM' 'MKD' 'MYS' 'ARM' 'JPN' 'LKA' 'CUB'\n",
            " 'CMR' 'BIH' 'MUS' 'COM' 'SUR' 'UGA' 'BGR' 'CIV' 'JOR' 'SYR' 'SGP' 'BDI'\n",
            " 'SAU' 'VNM' 'PLW' 'QAT' 'EGY' 'PER' 'MLT' 'MWI' 'ECU' 'MDG' 'ISL' 'UZB'\n",
            " 'NPL' 'BHS' 'MAC' 'TGO' 'TWN' 'DJI' 'STP' 'KNA' 'ETH' 'IRQ' 'HND' 'RWA'\n",
            " 'KHM' 'MCO' 'BGD' 'IMN' 'TJK' 'NIC' 'BEN' 'VGB' 'TZA' 'GAB' 'GHA' 'TMP'\n",
            " 'GLP' 'KEN' 'LIE' 'GNB' 'MNE' 'UMI' 'MYT' 'FRO' 'MMR' 'PAN' 'BFA' 'LBY'\n",
            " 'MLI' 'NAM' 'BOL' 'PRY' 'BRB' 'ABW' 'AIA' 'SLV' 'DMA' 'PYF' 'GUY' 'LCA'\n",
            " 'ATA' 'GTM' 'ASM' 'MRT' 'NCL' 'KIR' 'SDN' 'ATF' 'SLE' 'LAO']\n",
            "--------------------------------------------------\n",
            "market_segment\n",
            "['Direct' 'Corporate' 'Online TA' 'Offline TA/TO' 'Complementary' 'Groups'\n",
            " 'Undefined' 'Aviation']\n",
            "--------------------------------------------------\n",
            "distribution_channel\n",
            "['Direct' 'Corporate' 'TA/TO' 'Undefined' 'GDS']\n",
            "--------------------------------------------------\n",
            "reserved_room_type\n",
            "['C' 'A' 'D' 'E' 'G' 'F' 'H' 'L' 'P' 'B']\n",
            "--------------------------------------------------\n",
            "assigned_room_type\n",
            "['C' 'A' 'D' 'E' 'G' 'F' 'I' 'B' 'H' 'P' 'L' 'K']\n",
            "--------------------------------------------------\n",
            "deposit_type\n",
            "['No Deposit' 'Refundable' 'Non Refund']\n",
            "--------------------------------------------------\n",
            "customer_type\n",
            "['Transient' 'Contract' 'Transient-Party' 'Group']\n",
            "--------------------------------------------------\n",
            "reservation_status\n",
            "['Check-Out' 'Canceled' 'No-Show']\n",
            "--------------------------------------------------\n",
            "reservation_status_date\n",
            "['1/7/2015' '2/7/2015' '3/7/2015' '6/5/2015' '22/4/2015' '23/6/2015'\n",
            " '5/7/2015' '6/7/2015' '7/7/2015' '8/7/2015' '11/5/2015' '15/7/2015'\n",
            " '16/7/2015' '29/5/2015' '19/5/2015' '19/6/2015' '23/5/2015' '18/5/2015'\n",
            " '9/7/2015' '2/6/2015' '13/7/2015' '4/7/2015' '29/6/2015' '16/6/2015'\n",
            " '18/6/2015' '12/6/2015' '9/6/2015' '26/5/2015' '11/7/2015' '12/7/2015'\n",
            " '17/7/2015' '15/4/2015' '13/5/2015' '10/7/2015' '20/5/2015' '12/5/2015'\n",
            " '14/7/2015' '17/6/2015' '1/5/2015' '30/3/2015' '19/7/2015' '3/6/2015'\n",
            " '26/6/2015' '14/5/2015' '20/7/2015' '7/5/2015' '28/5/2015' '13/4/2015'\n",
            " '25/3/2015' '21/7/2015' '27/6/2015' '18/7/2015' '23/7/2015' '8/6/2015'\n",
            " '22/6/2015' '24/6/2015' '5/3/2015' '1/6/2015' '24/4/2015' '22/7/2015'\n",
            " '27/5/2015' '6/4/2015' '11/4/2015' '25/7/2015' '28/7/2015' '29/7/2015'\n",
            " '25/6/2015' '24/7/2015' '5/6/2015' '30/6/2015' '13/6/2015' '11/6/2015'\n",
            " '30/7/2015' '27/7/2015' '29/4/2015' '4/6/2015' '26/7/2015' '1/8/2015'\n",
            " '2/8/2015' '15/6/2015' '23/4/2015' '31/7/2015' '25/5/2015' '3/8/2015'\n",
            " '17/4/2015' '4/8/2015' '6/8/2015' '15/5/2015' '9/5/2015' '17/3/2015'\n",
            " '22/5/2015' '7/8/2015' '4/4/2015' '5/8/2015' '8/8/2015' '10/8/2015'\n",
            " '4/5/2015' '6/6/2015' '9/8/2015' '15/8/2015' '11/8/2015' '28/3/2015'\n",
            " '14/8/2015' '12/8/2015' '16/8/2015' '16/5/2015' '21/8/2015' '13/8/2015'\n",
            " '17/8/2015' '20/4/2015' '18/8/2015' '23/8/2015' '22/8/2015' '19/8/2015'\n",
            " '20/8/2015' '29/8/2015' '31/3/2015' '30/5/2015' '25/8/2015' '14/4/2015'\n",
            " '24/8/2015' '24/3/2015' '21/5/2015' '28/8/2015' '26/8/2015' '27/8/2015'\n",
            " '30/8/2015' '31/8/2015' '6/9/2015' '3/9/2015' '4/9/2015' '2/9/2015'\n",
            " '1/9/2015' '5/9/2015' '20/6/2015' '7/9/2015' '10/9/2015' '11/9/2015'\n",
            " '8/9/2015' '9/9/2015' '13/9/2015' '15/9/2015' '10/4/2015' '2/1/2015'\n",
            " '18/11/2014' '12/9/2015' '17/9/2015' '14/9/2015' '7/4/2015' '19/9/2015'\n",
            " '16/9/2015' '20/9/2015' '18/1/2015' '23/10/2015' '22/1/2015' '1/1/2015'\n",
            " '22/9/2015' '24/9/2015' '18/9/2015' '21/9/2015' '30/9/2015' '25/9/2015'\n",
            " '27/9/2015' '28/9/2015' '12/10/2015' '29/9/2015' '23/9/2015' '1/10/2015'\n",
            " '26/9/2015' '18/4/2015' '2/10/2015' '4/10/2015' '8/10/2015' '3/10/2015'\n",
            " '7/10/2015' '9/10/2015' '11/10/2015' '5/10/2015' '6/10/2015' '10/10/2015'\n",
            " '14/10/2015' '15/10/2015' '18/10/2015' '13/10/2015' '20/10/2015'\n",
            " '19/10/2015' '31/10/2015' '16/10/2015' '21/10/2015' '22/10/2015'\n",
            " '17/10/2015' '24/10/2015' '25/10/2015' '28/10/2015' '27/10/2015'\n",
            " '26/10/2015' '30/10/2015' '5/11/2015' '29/10/2015' '3/11/2015'\n",
            " '7/11/2015' '4/11/2015' '1/11/2015' '2/11/2015' '17/11/2015' '6/11/2015'\n",
            " '10/11/2015' '8/11/2015' '9/11/2015' '15/11/2015' '16/11/2015'\n",
            " '11/11/2015' '12/11/2015' '14/11/2015' '13/11/2015' '18/11/2015'\n",
            " '22/11/2015' '19/11/2015' '21/11/2015' '20/11/2015' '24/11/2015'\n",
            " '25/11/2015' '23/11/2015' '28/11/2015' '26/11/2015' '27/11/2015'\n",
            " '29/11/2015' '4/12/2015' '1/12/2015' '6/12/2015' '8/12/2015' '2/12/2015'\n",
            " '3/12/2015' '31/12/2015' '5/12/2015' '10/12/2015' '17/12/2015'\n",
            " '30/11/2015' '12/12/2015' '7/12/2015' '5/1/2016' '11/12/2015'\n",
            " '13/12/2015' '15/12/2015' '16/12/2015' '19/12/2015' '18/12/2015'\n",
            " '26/12/2015' '27/12/2015' '22/12/2015' '23/12/2015' '24/12/2015'\n",
            " '29/12/2015' '28/12/2015' '20/12/2015' '30/12/2015' '2/1/2016' '1/1/2016'\n",
            " '25/12/2015' '3/1/2016' '4/1/2016' '11/1/2016' '7/1/2016' '21/12/2015'\n",
            " '9/1/2016' '10/1/2016' '8/1/2016' '6/1/2016' '12/1/2016' '13/1/2016'\n",
            " '23/1/2016' '9/2/2016' '15/1/2016' '16/1/2016' '17/1/2016' '19/1/2016'\n",
            " '18/1/2016' '21/1/2016' '24/1/2016' '22/1/2016' '29/1/2016' '27/1/2016'\n",
            " '25/1/2016' '8/3/2016' '26/1/2016' '20/1/2016' '30/1/2016' '1/2/2016'\n",
            " '2/2/2016' '8/2/2016' '7/2/2016' '28/1/2016' '5/2/2016' '3/2/2016'\n",
            " '13/2/2016' '10/2/2016' '4/2/2016' '12/2/2016' '11/2/2016' '16/2/2016'\n",
            " '14/2/2016' '15/2/2016' '20/2/2016' '6/2/2016' '14/1/2016' '17/2/2016'\n",
            " '21/2/2016' '24/2/2016' '25/2/2016' '19/2/2016' '18/2/2016' '26/2/2016'\n",
            " '23/2/2016' '5/3/2016' '22/2/2016' '27/2/2016' '3/3/2016' '24/3/2016'\n",
            " '4/3/2016' '29/2/2016' '1/3/2016' '2/3/2016' '30/3/2016' '7/3/2016'\n",
            " '14/3/2016' '21/3/2016' '9/3/2016' '12/3/2016' '22/3/2016' '10/3/2016'\n",
            " '11/3/2016' '20/3/2016' '15/3/2016' '17/3/2016' '16/3/2016' '19/3/2016'\n",
            " '27/3/2016' '18/3/2016' '26/3/2016' '31/3/2016' '28/3/2016' '29/3/2016'\n",
            " '1/4/2016' '23/3/2016' '2/4/2016' '25/3/2016' '13/3/2016' '4/4/2016'\n",
            " '3/4/2016' '5/4/2016' '8/4/2016' '6/4/2016' '9/4/2016' '12/4/2016'\n",
            " '16/4/2016' '17/4/2016' '27/4/2016' '14/4/2016' '18/4/2016' '21/4/2016'\n",
            " '19/4/2016' '20/4/2016' '10/4/2016' '13/4/2016' '11/4/2016' '7/4/2016'\n",
            " '15/4/2016' '22/4/2016' '23/4/2016' '26/4/2016' '28/4/2016' '24/4/2016'\n",
            " '25/4/2016' '29/4/2016' '30/4/2016' '1/5/2016' '10/5/2016' '2/5/2016'\n",
            " '7/5/2016' '8/5/2016' '12/5/2016' '4/5/2016' '6/5/2016' '3/5/2016'\n",
            " '9/5/2016' '5/5/2016' '13/5/2016' '14/5/2016' '18/5/2016' '19/5/2016'\n",
            " '15/5/2016' '16/5/2016' '11/5/2016' '21/5/2016' '22/5/2016' '20/5/2016'\n",
            " '24/5/2016' '25/5/2016' '26/5/2016' '23/5/2016' '27/5/2016' '17/5/2016'\n",
            " '29/5/2016' '28/5/2016' '30/5/2016' '31/5/2016' '1/6/2016' '3/6/2016'\n",
            " '8/6/2016' '2/6/2016' '5/6/2016' '6/6/2016' '13/6/2016' '7/6/2016'\n",
            " '10/6/2016' '11/6/2016' '16/6/2016' '12/6/2016' '14/6/2016' '17/6/2016'\n",
            " '4/6/2016' '18/6/2016' '21/6/2016' '9/6/2016' '24/6/2016' '20/6/2016'\n",
            " '25/6/2016' '22/6/2016' '26/6/2016' '23/6/2016' '1/7/2016' '15/6/2016'\n",
            " '28/6/2016' '2/7/2016' '19/6/2016' '27/6/2016' '4/7/2016' '30/6/2016'\n",
            " '5/7/2016' '8/7/2016' '9/7/2016' '7/7/2016' '12/7/2016' '29/6/2016'\n",
            " '10/7/2016' '15/7/2016' '3/7/2016' '16/7/2016' '14/7/2016' '18/7/2016'\n",
            " '13/7/2016' '6/7/2016' '20/7/2016' '21/7/2016' '23/7/2016' '19/7/2016'\n",
            " '11/7/2016' '28/7/2016' '17/7/2016' '25/7/2016' '22/7/2016' '29/7/2016'\n",
            " '3/8/2016' '2/8/2016' '4/8/2016' '8/8/2016' '10/8/2016' '1/8/2016'\n",
            " '6/8/2016' '6/3/2016' '5/8/2016' '26/7/2016' '7/8/2016' '30/7/2016'\n",
            " '24/7/2016' '12/8/2016' '27/7/2016' '13/8/2016' '18/8/2016' '16/8/2016'\n",
            " '15/8/2016' '17/8/2016' '11/8/2016' '31/7/2016' '19/8/2016' '1/9/2016'\n",
            " '23/8/2016' '26/8/2016' '20/8/2016' '21/8/2016' '4/9/2016' '22/8/2016'\n",
            " '27/8/2016' '25/8/2016' '9/8/2016' '5/9/2016' '24/8/2016' '10/9/2016'\n",
            " '29/8/2016' '9/9/2016' '30/8/2016' '13/9/2016' '31/8/2016' '14/9/2016'\n",
            " '12/9/2016' '15/9/2016' '14/8/2016' '2/9/2016' '8/9/2016' '19/9/2016'\n",
            " '16/9/2016' '7/9/2016' '21/9/2016' '6/9/2016' '22/9/2016' '17/9/2016'\n",
            " '20/9/2016' '3/9/2016' '26/9/2016' '23/9/2016' '18/9/2016' '29/9/2016'\n",
            " '2/10/2016' '1/10/2016' '27/9/2016' '25/9/2016' '5/10/2016' '11/9/2016'\n",
            " '30/9/2016' '9/10/2016' '3/10/2016' '6/10/2016' '11/10/2016' '24/9/2016'\n",
            " '13/10/2016' '28/9/2016' '8/10/2016' '7/10/2016' '16/10/2016' '28/8/2016'\n",
            " '17/10/2016' '18/10/2016' '10/10/2016' '4/10/2016' '15/10/2016'\n",
            " '19/10/2016' '21/10/2016' '12/10/2016' '24/10/2016' '26/10/2016'\n",
            " '23/10/2016' '20/10/2016' '25/10/2016' '27/10/2016' '28/10/2016'\n",
            " '30/10/2016' '29/10/2016' '1/11/2016' '4/11/2016' '14/10/2016'\n",
            " '7/11/2016' '3/11/2016' '10/11/2016' '14/11/2016' '2/11/2016'\n",
            " '31/10/2016' '11/11/2016' '8/11/2016' '5/11/2016' '25/11/2016'\n",
            " '9/11/2016' '20/11/2016' '21/11/2016' '22/10/2016' '22/11/2016'\n",
            " '16/11/2016' '23/11/2016' '17/11/2016' '6/11/2016' '15/11/2016'\n",
            " '13/11/2016' '12/11/2016' '27/11/2016' '19/11/2016' '30/11/2016'\n",
            " '18/11/2016' '2/12/2016' '4/12/2016' '29/11/2016' '7/12/2016'\n",
            " '28/11/2016' '3/12/2016' '6/12/2016' '24/11/2016' '8/12/2016' '5/12/2016'\n",
            " '10/12/2016' '13/12/2016' '14/12/2016' '16/12/2016' '15/12/2016'\n",
            " '17/12/2016' '19/12/2016' '21/12/2016' '20/12/2016' '22/12/2016'\n",
            " '23/12/2016' '24/12/2016' '1/12/2016' '27/12/2016' '29/12/2016'\n",
            " '30/12/2016' '12/12/2016' '2/1/2017' '11/12/2016' '3/1/2017' '4/1/2017'\n",
            " '1/1/2017' '26/12/2016' '6/1/2017' '28/12/2016' '18/12/2016' '10/1/2017'\n",
            " '11/1/2017' '7/1/2017' '12/1/2017' '16/1/2017' '14/1/2017' '13/1/2017'\n",
            " '5/1/2017' '17/1/2017' '20/1/2017' '9/12/2016' '26/1/2017' '31/12/2016'\n",
            " '23/1/2017' '27/1/2017' '28/1/2017' '19/1/2017' '25/1/2017' '24/1/2017'\n",
            " '29/1/2017' '18/1/2017' '25/12/2016' '15/1/2017' '21/1/2017' '1/2/2017'\n",
            " '2/2/2017' '31/1/2017' '3/2/2017' '4/2/2017' '6/2/2017' '7/2/2017'\n",
            " '8/2/2017' '30/1/2017' '9/2/2017' '9/1/2017' '11/2/2017' '10/2/2017'\n",
            " '12/2/2017' '13/2/2017' '14/2/2017' '16/2/2017' '17/2/2017' '18/2/2017'\n",
            " '19/2/2017' '20/2/2017' '15/2/2017' '21/2/2017' '22/2/2017' '26/2/2017'\n",
            " '23/2/2017' '24/2/2017' '25/2/2017' '28/2/2017' '5/3/2017' '27/2/2017'\n",
            " '3/3/2017' '6/3/2017' '2/3/2017' '8/3/2017' '9/3/2017' '10/3/2017'\n",
            " '7/3/2017' '12/3/2017' '13/3/2017' '14/3/2017' '1/3/2017' '18/3/2017'\n",
            " '17/3/2017' '24/3/2017' '22/3/2017' '26/3/2017' '27/3/2017' '11/3/2017'\n",
            " '28/3/2017' '29/3/2017' '30/3/2017' '31/3/2017' '19/3/2017' '22/1/2017'\n",
            " '2/4/2017' '20/3/2017' '3/4/2017' '8/1/2017' '23/3/2017' '5/4/2017'\n",
            " '5/2/2017' '4/4/2017' '15/3/2017' '7/4/2017' '25/3/2017' '8/4/2017'\n",
            " '6/4/2017' '21/3/2017' '10/4/2017' '1/4/2017' '11/4/2017' '13/4/2017'\n",
            " '15/4/2017' '12/4/2017' '4/3/2017' '19/4/2017' '22/4/2017' '20/4/2017'\n",
            " '2/5/2017' '9/4/2017' '23/4/2017' '24/4/2017' '16/4/2017' '28/4/2017'\n",
            " '18/4/2017' '26/4/2017' '25/4/2017' '17/4/2017' '21/4/2017' '3/5/2017'\n",
            " '4/5/2017' '16/3/2017' '5/5/2017' '29/4/2017' '14/4/2017' '8/5/2017'\n",
            " '27/4/2017' '11/5/2017' '1/5/2017' '10/5/2017' '13/5/2017' '6/5/2017'\n",
            " '14/5/2017' '16/5/2017' '30/4/2017' '15/5/2017' '7/5/2017' '9/5/2017'\n",
            " '17/5/2017' '21/5/2017' '12/5/2017' '22/5/2017' '24/5/2017' '23/5/2017'\n",
            " '25/5/2017' '26/5/2017' '28/5/2017' '27/5/2017' '29/5/2017' '19/5/2017'\n",
            " '31/5/2017' '20/5/2017' '1/6/2017' '30/5/2017' '2/6/2017' '26/11/2016'\n",
            " '4/6/2017' '5/6/2017' '6/6/2017' '7/6/2017' '18/5/2017' '9/6/2017'\n",
            " '10/6/2017' '11/6/2017' '12/6/2017' '14/6/2017' '8/6/2017' '16/6/2017'\n",
            " '13/6/2017' '3/6/2017' '24/6/2017' '20/6/2017' '19/6/2017' '21/6/2017'\n",
            " '26/6/2017' '27/6/2017' '22/6/2017' '28/6/2017' '15/6/2017' '29/6/2017'\n",
            " '30/6/2017' '18/6/2017' '4/7/2017' '8/7/2017' '5/7/2017' '3/7/2017'\n",
            " '7/7/2017' '1/7/2017' '6/7/2017' '11/7/2017' '12/7/2017' '23/6/2017'\n",
            " '13/7/2017' '2/7/2017' '10/7/2017' '14/7/2017' '15/7/2017' '16/7/2017'\n",
            " '18/7/2017' '17/7/2017' '19/7/2017' '20/7/2017' '21/7/2017' '25/6/2017'\n",
            " '17/6/2017' '24/7/2017' '26/7/2017' '9/7/2017' '27/7/2017' '28/7/2017'\n",
            " '31/7/2017' '29/7/2017' '22/7/2017' '2/8/2017' '1/8/2017' '3/8/2017'\n",
            " '4/8/2017' '25/7/2017' '23/7/2017' '9/8/2017' '10/8/2017' '30/7/2017'\n",
            " '7/8/2017' '13/8/2017' '5/8/2017' '14/8/2017' '8/8/2017' '16/8/2017'\n",
            " '17/8/2017' '15/8/2017' '18/8/2017' '20/8/2017' '22/8/2017' '6/8/2017'\n",
            " '25/8/2017' '26/8/2017' '23/8/2017' '11/8/2017' '27/8/2017' '21/8/2017'\n",
            " '29/8/2017' '31/8/2017' '12/8/2017' '19/8/2017' '31/1/2016' '1/9/2017'\n",
            " '28/8/2017' '3/4/2015' '21/1/2015' '28/1/2015' '29/1/2015' '30/1/2015'\n",
            " '2/2/2015' '5/2/2015' '6/2/2015' '9/2/2015' '10/2/2015' '11/2/2015'\n",
            " '12/2/2015' '19/2/2015' '20/2/2015' '23/2/2015' '24/2/2015' '25/2/2015'\n",
            " '26/2/2015' '27/2/2015' '3/3/2015' '4/3/2015' '6/3/2015' '9/3/2015'\n",
            " '11/3/2015' '12/3/2015' '18/3/2015' '2/4/2015' '14/6/2015' '8/4/2015'\n",
            " '16/4/2015' '25/4/2015' '28/4/2015' '8/5/2015' '6/9/2017' '28/2/2016'\n",
            " '9/12/2015' '14/12/2015' '9/9/2017' '2/9/2017' '24/8/2017' '30/8/2017'\n",
            " '3/9/2017' '4/9/2017' '5/9/2017' '7/9/2017' '8/9/2017' '10/9/2017'\n",
            " '12/9/2017' '14/9/2017' '30/4/2015' '21/4/2015' '5/4/2015' '13/3/2015'\n",
            " '5/5/2015' '29/3/2015' '10/6/2015' '27/4/2015' '17/10/2014' '20/1/2015'\n",
            " '17/2/2015' '10/3/2015' '23/3/2015']\n",
            "--------------------------------------------------\n"
          ]
        }
      ]
    },
    {
      "cell_type": "code",
      "execution_count": null,
      "metadata": {
        "id": "ZWqpA25ogSTQ"
      },
      "outputs": [],
      "source": [
        "df[\"reservation_status_date\"] = pd.to_datetime(df[\"reservation_status_date\"])"
      ]
    },
    {
      "cell_type": "code",
      "execution_count": 8,
      "metadata": {
        "colab": {
          "base_uri": "https://localhost:8080/"
        },
        "id": "mQKiBSTJgSVG",
        "outputId": "15f3c138-7aef-4415-9c5a-8fa4d749bfd3"
      },
      "outputs": [
        {
          "output_type": "stream",
          "name": "stdout",
          "text": [
            "<class 'pandas.core.frame.DataFrame'>\n",
            "RangeIndex: 119390 entries, 0 to 119389\n",
            "Data columns (total 32 columns):\n",
            " #   Column                          Non-Null Count   Dtype         \n",
            "---  ------                          --------------   -----         \n",
            " 0   hotel                           119390 non-null  object        \n",
            " 1   is_canceled                     119390 non-null  int64         \n",
            " 2   lead_time                       119390 non-null  int64         \n",
            " 3   arrival_date_year               119390 non-null  int64         \n",
            " 4   arrival_date_month              119390 non-null  object        \n",
            " 5   arrival_date_week_number        119390 non-null  int64         \n",
            " 6   arrival_date_day_of_month       119390 non-null  int64         \n",
            " 7   stays_in_weekend_nights         119390 non-null  int64         \n",
            " 8   stays_in_week_nights            119390 non-null  int64         \n",
            " 9   adults                          119390 non-null  int64         \n",
            " 10  children                        119386 non-null  float64       \n",
            " 11  babies                          119390 non-null  int64         \n",
            " 12  meal                            119390 non-null  object        \n",
            " 13  country                         118902 non-null  object        \n",
            " 14  market_segment                  119390 non-null  object        \n",
            " 15  distribution_channel            119390 non-null  object        \n",
            " 16  is_repeated_guest               119390 non-null  int64         \n",
            " 17  previous_cancellations          119390 non-null  int64         \n",
            " 18  previous_bookings_not_canceled  119390 non-null  int64         \n",
            " 19  reserved_room_type              119390 non-null  object        \n",
            " 20  assigned_room_type              119390 non-null  object        \n",
            " 21  booking_changes                 119390 non-null  int64         \n",
            " 22  deposit_type                    119390 non-null  object        \n",
            " 23  agent                           103050 non-null  float64       \n",
            " 24  company                         6797 non-null    float64       \n",
            " 25  days_in_waiting_list            119390 non-null  int64         \n",
            " 26  customer_type                   119390 non-null  object        \n",
            " 27  adr                             119390 non-null  float64       \n",
            " 28  required_car_parking_spaces     119390 non-null  int64         \n",
            " 29  total_of_special_requests       119390 non-null  int64         \n",
            " 30  reservation_status              119390 non-null  object        \n",
            " 31  reservation_status_date         119390 non-null  datetime64[ns]\n",
            "dtypes: datetime64[ns](1), float64(4), int64(16), object(11)\n",
            "memory usage: 29.1+ MB\n"
          ]
        }
      ],
      "source": [
        "df.info()"
      ]
    },
    {
      "cell_type": "code",
      "execution_count": 9,
      "metadata": {
        "colab": {
          "base_uri": "https://localhost:8080/"
        },
        "id": "FU5neLmFgSWp",
        "outputId": "04c7249b-99eb-4329-b18b-993d5fd8a458"
      },
      "outputs": [
        {
          "output_type": "execute_result",
          "data": {
            "text/plain": [
              "company                           112593\n",
              "agent                              16340\n",
              "country                              488\n",
              "children                               4\n",
              "reserved_room_type                     0\n",
              "assigned_room_type                     0\n",
              "booking_changes                        0\n",
              "deposit_type                           0\n",
              "hotel                                  0\n",
              "previous_cancellations                 0\n",
              "days_in_waiting_list                   0\n",
              "customer_type                          0\n",
              "adr                                    0\n",
              "required_car_parking_spaces            0\n",
              "total_of_special_requests              0\n",
              "reservation_status                     0\n",
              "previous_bookings_not_canceled         0\n",
              "is_repeated_guest                      0\n",
              "is_canceled                            0\n",
              "distribution_channel                   0\n",
              "market_segment                         0\n",
              "meal                                   0\n",
              "babies                                 0\n",
              "adults                                 0\n",
              "stays_in_week_nights                   0\n",
              "stays_in_weekend_nights                0\n",
              "arrival_date_day_of_month              0\n",
              "arrival_date_week_number               0\n",
              "arrival_date_month                     0\n",
              "arrival_date_year                      0\n",
              "lead_time                              0\n",
              "reservation_status_date                0\n",
              "dtype: int64"
            ]
          },
          "metadata": {},
          "execution_count": 9
        }
      ],
      "source": [
        "df.isnull().sum().sort_values(ascending=False)"
      ]
    },
    {
      "cell_type": "code",
      "execution_count": 10,
      "metadata": {
        "colab": {
          "base_uri": "https://localhost:8080/"
        },
        "id": "XujRQ0yFgSY-",
        "outputId": "92dd87a2-a818-4b8f-ccbd-13d09b64ca7b"
      },
      "outputs": [
        {
          "output_type": "execute_result",
          "data": {
            "text/plain": [
              "0         PRT\n",
              "1         PRT\n",
              "2         GBR\n",
              "3         GBR\n",
              "4         GBR\n",
              "         ... \n",
              "119385    BEL\n",
              "119386    FRA\n",
              "119387    DEU\n",
              "119388    GBR\n",
              "119389    DEU\n",
              "Name: country, Length: 119390, dtype: object"
            ]
          },
          "metadata": {},
          "execution_count": 10
        }
      ],
      "source": [
        "df[\"country\"].fillna(\"others\")"
      ]
    },
    {
      "cell_type": "code",
      "execution_count": 11,
      "metadata": {
        "id": "0j8mcLJxgSbu"
      },
      "outputs": [],
      "source": [
        "df.drop([\"company\",\"agent\"],axis = 1,inplace = True)\n",
        "df.dropna(inplace=True)"
      ]
    },
    {
      "cell_type": "code",
      "execution_count": 12,
      "metadata": {
        "colab": {
          "base_uri": "https://localhost:8080/"
        },
        "id": "XAZNtRejgSc1",
        "outputId": "b2839732-88a3-437c-8cd8-e46d8ffa36c1"
      },
      "outputs": [
        {
          "output_type": "execute_result",
          "data": {
            "text/plain": [
              "hotel                             0\n",
              "is_canceled                       0\n",
              "reservation_status                0\n",
              "total_of_special_requests         0\n",
              "required_car_parking_spaces       0\n",
              "adr                               0\n",
              "customer_type                     0\n",
              "days_in_waiting_list              0\n",
              "deposit_type                      0\n",
              "booking_changes                   0\n",
              "assigned_room_type                0\n",
              "reserved_room_type                0\n",
              "previous_bookings_not_canceled    0\n",
              "previous_cancellations            0\n",
              "is_repeated_guest                 0\n",
              "distribution_channel              0\n",
              "market_segment                    0\n",
              "country                           0\n",
              "meal                              0\n",
              "babies                            0\n",
              "children                          0\n",
              "adults                            0\n",
              "stays_in_week_nights              0\n",
              "stays_in_weekend_nights           0\n",
              "arrival_date_day_of_month         0\n",
              "arrival_date_week_number          0\n",
              "arrival_date_month                0\n",
              "arrival_date_year                 0\n",
              "lead_time                         0\n",
              "reservation_status_date           0\n",
              "dtype: int64"
            ]
          },
          "metadata": {},
          "execution_count": 12
        }
      ],
      "source": [
        "df.isnull().sum().sort_values(ascending=False)"
      ]
    },
    {
      "cell_type": "code",
      "execution_count": 13,
      "metadata": {
        "id": "IINV9APnks0A"
      },
      "outputs": [],
      "source": [
        "df.drop_duplicates(inplace = True) #Dropping Duplicates"
      ]
    },
    {
      "cell_type": "code",
      "execution_count": 14,
      "metadata": {
        "colab": {
          "base_uri": "https://localhost:8080/"
        },
        "id": "Ja8qirtIks9t",
        "outputId": "ce6340d0-afe9-4f24-8697-06a8ae3c810a"
      },
      "outputs": [
        {
          "output_type": "execute_result",
          "data": {
            "text/plain": [
              "(86914, 30)"
            ]
          },
          "metadata": {},
          "execution_count": 14
        }
      ],
      "source": [
        "df.shape # Unique Rows and Columns"
      ]
    },
    {
      "cell_type": "code",
      "execution_count": 15,
      "metadata": {
        "colab": {
          "base_uri": "https://localhost:8080/",
          "height": 661
        },
        "id": "QyZIDU3sktAT",
        "outputId": "b7f4b4c2-8587-4689-84fc-2b25f4ad5e33"
      },
      "outputs": [
        {
          "output_type": "execute_result",
          "data": {
            "text/plain": [
              "               hotel  is_canceled  lead_time  arrival_date_year  \\\n",
              "0       Resort Hotel            0        342               2015   \n",
              "1       Resort Hotel            0        737               2015   \n",
              "2       Resort Hotel            0          7               2015   \n",
              "3       Resort Hotel            0         13               2015   \n",
              "4       Resort Hotel            0         14               2015   \n",
              "...              ...          ...        ...                ...   \n",
              "119385    City Hotel            0         23               2017   \n",
              "119386    City Hotel            0        102               2017   \n",
              "119387    City Hotel            0         34               2017   \n",
              "119388    City Hotel            0        109               2017   \n",
              "119389    City Hotel            0        205               2017   \n",
              "\n",
              "       arrival_date_month  arrival_date_week_number  \\\n",
              "0                    July                        27   \n",
              "1                    July                        27   \n",
              "2                    July                        27   \n",
              "3                    July                        27   \n",
              "4                    July                        27   \n",
              "...                   ...                       ...   \n",
              "119385             August                        35   \n",
              "119386             August                        35   \n",
              "119387             August                        35   \n",
              "119388             August                        35   \n",
              "119389             August                        35   \n",
              "\n",
              "        arrival_date_day_of_month  stays_in_weekend_nights  \\\n",
              "0                               1                        0   \n",
              "1                               1                        0   \n",
              "2                               1                        0   \n",
              "3                               1                        0   \n",
              "4                               1                        0   \n",
              "...                           ...                      ...   \n",
              "119385                         30                        2   \n",
              "119386                         31                        2   \n",
              "119387                         31                        2   \n",
              "119388                         31                        2   \n",
              "119389                         29                        2   \n",
              "\n",
              "        stays_in_week_nights  adults  ...  assigned_room_type  \\\n",
              "0                          0       2  ...                   C   \n",
              "1                          0       2  ...                   C   \n",
              "2                          1       1  ...                   C   \n",
              "3                          1       1  ...                   A   \n",
              "4                          2       2  ...                   A   \n",
              "...                      ...     ...  ...                 ...   \n",
              "119385                     5       2  ...                   A   \n",
              "119386                     5       3  ...                   E   \n",
              "119387                     5       2  ...                   D   \n",
              "119388                     5       2  ...                   A   \n",
              "119389                     7       2  ...                   A   \n",
              "\n",
              "        booking_changes deposit_type days_in_waiting_list customer_type  \\\n",
              "0                     3   No Deposit                    0     Transient   \n",
              "1                     4   No Deposit                    0     Transient   \n",
              "2                     0   No Deposit                    0     Transient   \n",
              "3                     0   No Deposit                    0     Transient   \n",
              "4                     0   No Deposit                    0     Transient   \n",
              "...                 ...          ...                  ...           ...   \n",
              "119385                0   No Deposit                    0     Transient   \n",
              "119386                0   No Deposit                    0     Transient   \n",
              "119387                0   No Deposit                    0     Transient   \n",
              "119388                0   No Deposit                    0     Transient   \n",
              "119389                0   No Deposit                    0     Transient   \n",
              "\n",
              "           adr  required_car_parking_spaces  total_of_special_requests  \\\n",
              "0         0.00                            0                          0   \n",
              "1         0.00                            0                          0   \n",
              "2        75.00                            0                          0   \n",
              "3        75.00                            0                          0   \n",
              "4        98.00                            0                          1   \n",
              "...        ...                          ...                        ...   \n",
              "119385   96.14                            0                          0   \n",
              "119386  225.43                            0                          2   \n",
              "119387  157.71                            0                          4   \n",
              "119388  104.40                            0                          0   \n",
              "119389  151.20                            0                          2   \n",
              "\n",
              "        reservation_status reservation_status_date  \n",
              "0                Check-Out              2015-01-07  \n",
              "1                Check-Out              2015-01-07  \n",
              "2                Check-Out              2015-02-07  \n",
              "3                Check-Out              2015-02-07  \n",
              "4                Check-Out              2015-03-07  \n",
              "...                    ...                     ...  \n",
              "119385           Check-Out              2017-06-09  \n",
              "119386           Check-Out              2017-07-09  \n",
              "119387           Check-Out              2017-07-09  \n",
              "119388           Check-Out              2017-07-09  \n",
              "119389           Check-Out              2017-07-09  \n",
              "\n",
              "[86914 rows x 30 columns]"
            ],
            "text/html": [
              "\n",
              "  <div id=\"df-3cea0402-1747-4a9a-ac35-c2c9ab7b13ae\">\n",
              "    <div class=\"colab-df-container\">\n",
              "      <div>\n",
              "<style scoped>\n",
              "    .dataframe tbody tr th:only-of-type {\n",
              "        vertical-align: middle;\n",
              "    }\n",
              "\n",
              "    .dataframe tbody tr th {\n",
              "        vertical-align: top;\n",
              "    }\n",
              "\n",
              "    .dataframe thead th {\n",
              "        text-align: right;\n",
              "    }\n",
              "</style>\n",
              "<table border=\"1\" class=\"dataframe\">\n",
              "  <thead>\n",
              "    <tr style=\"text-align: right;\">\n",
              "      <th></th>\n",
              "      <th>hotel</th>\n",
              "      <th>is_canceled</th>\n",
              "      <th>lead_time</th>\n",
              "      <th>arrival_date_year</th>\n",
              "      <th>arrival_date_month</th>\n",
              "      <th>arrival_date_week_number</th>\n",
              "      <th>arrival_date_day_of_month</th>\n",
              "      <th>stays_in_weekend_nights</th>\n",
              "      <th>stays_in_week_nights</th>\n",
              "      <th>adults</th>\n",
              "      <th>...</th>\n",
              "      <th>assigned_room_type</th>\n",
              "      <th>booking_changes</th>\n",
              "      <th>deposit_type</th>\n",
              "      <th>days_in_waiting_list</th>\n",
              "      <th>customer_type</th>\n",
              "      <th>adr</th>\n",
              "      <th>required_car_parking_spaces</th>\n",
              "      <th>total_of_special_requests</th>\n",
              "      <th>reservation_status</th>\n",
              "      <th>reservation_status_date</th>\n",
              "    </tr>\n",
              "  </thead>\n",
              "  <tbody>\n",
              "    <tr>\n",
              "      <th>0</th>\n",
              "      <td>Resort Hotel</td>\n",
              "      <td>0</td>\n",
              "      <td>342</td>\n",
              "      <td>2015</td>\n",
              "      <td>July</td>\n",
              "      <td>27</td>\n",
              "      <td>1</td>\n",
              "      <td>0</td>\n",
              "      <td>0</td>\n",
              "      <td>2</td>\n",
              "      <td>...</td>\n",
              "      <td>C</td>\n",
              "      <td>3</td>\n",
              "      <td>No Deposit</td>\n",
              "      <td>0</td>\n",
              "      <td>Transient</td>\n",
              "      <td>0.00</td>\n",
              "      <td>0</td>\n",
              "      <td>0</td>\n",
              "      <td>Check-Out</td>\n",
              "      <td>2015-01-07</td>\n",
              "    </tr>\n",
              "    <tr>\n",
              "      <th>1</th>\n",
              "      <td>Resort Hotel</td>\n",
              "      <td>0</td>\n",
              "      <td>737</td>\n",
              "      <td>2015</td>\n",
              "      <td>July</td>\n",
              "      <td>27</td>\n",
              "      <td>1</td>\n",
              "      <td>0</td>\n",
              "      <td>0</td>\n",
              "      <td>2</td>\n",
              "      <td>...</td>\n",
              "      <td>C</td>\n",
              "      <td>4</td>\n",
              "      <td>No Deposit</td>\n",
              "      <td>0</td>\n",
              "      <td>Transient</td>\n",
              "      <td>0.00</td>\n",
              "      <td>0</td>\n",
              "      <td>0</td>\n",
              "      <td>Check-Out</td>\n",
              "      <td>2015-01-07</td>\n",
              "    </tr>\n",
              "    <tr>\n",
              "      <th>2</th>\n",
              "      <td>Resort Hotel</td>\n",
              "      <td>0</td>\n",
              "      <td>7</td>\n",
              "      <td>2015</td>\n",
              "      <td>July</td>\n",
              "      <td>27</td>\n",
              "      <td>1</td>\n",
              "      <td>0</td>\n",
              "      <td>1</td>\n",
              "      <td>1</td>\n",
              "      <td>...</td>\n",
              "      <td>C</td>\n",
              "      <td>0</td>\n",
              "      <td>No Deposit</td>\n",
              "      <td>0</td>\n",
              "      <td>Transient</td>\n",
              "      <td>75.00</td>\n",
              "      <td>0</td>\n",
              "      <td>0</td>\n",
              "      <td>Check-Out</td>\n",
              "      <td>2015-02-07</td>\n",
              "    </tr>\n",
              "    <tr>\n",
              "      <th>3</th>\n",
              "      <td>Resort Hotel</td>\n",
              "      <td>0</td>\n",
              "      <td>13</td>\n",
              "      <td>2015</td>\n",
              "      <td>July</td>\n",
              "      <td>27</td>\n",
              "      <td>1</td>\n",
              "      <td>0</td>\n",
              "      <td>1</td>\n",
              "      <td>1</td>\n",
              "      <td>...</td>\n",
              "      <td>A</td>\n",
              "      <td>0</td>\n",
              "      <td>No Deposit</td>\n",
              "      <td>0</td>\n",
              "      <td>Transient</td>\n",
              "      <td>75.00</td>\n",
              "      <td>0</td>\n",
              "      <td>0</td>\n",
              "      <td>Check-Out</td>\n",
              "      <td>2015-02-07</td>\n",
              "    </tr>\n",
              "    <tr>\n",
              "      <th>4</th>\n",
              "      <td>Resort Hotel</td>\n",
              "      <td>0</td>\n",
              "      <td>14</td>\n",
              "      <td>2015</td>\n",
              "      <td>July</td>\n",
              "      <td>27</td>\n",
              "      <td>1</td>\n",
              "      <td>0</td>\n",
              "      <td>2</td>\n",
              "      <td>2</td>\n",
              "      <td>...</td>\n",
              "      <td>A</td>\n",
              "      <td>0</td>\n",
              "      <td>No Deposit</td>\n",
              "      <td>0</td>\n",
              "      <td>Transient</td>\n",
              "      <td>98.00</td>\n",
              "      <td>0</td>\n",
              "      <td>1</td>\n",
              "      <td>Check-Out</td>\n",
              "      <td>2015-03-07</td>\n",
              "    </tr>\n",
              "    <tr>\n",
              "      <th>...</th>\n",
              "      <td>...</td>\n",
              "      <td>...</td>\n",
              "      <td>...</td>\n",
              "      <td>...</td>\n",
              "      <td>...</td>\n",
              "      <td>...</td>\n",
              "      <td>...</td>\n",
              "      <td>...</td>\n",
              "      <td>...</td>\n",
              "      <td>...</td>\n",
              "      <td>...</td>\n",
              "      <td>...</td>\n",
              "      <td>...</td>\n",
              "      <td>...</td>\n",
              "      <td>...</td>\n",
              "      <td>...</td>\n",
              "      <td>...</td>\n",
              "      <td>...</td>\n",
              "      <td>...</td>\n",
              "      <td>...</td>\n",
              "      <td>...</td>\n",
              "    </tr>\n",
              "    <tr>\n",
              "      <th>119385</th>\n",
              "      <td>City Hotel</td>\n",
              "      <td>0</td>\n",
              "      <td>23</td>\n",
              "      <td>2017</td>\n",
              "      <td>August</td>\n",
              "      <td>35</td>\n",
              "      <td>30</td>\n",
              "      <td>2</td>\n",
              "      <td>5</td>\n",
              "      <td>2</td>\n",
              "      <td>...</td>\n",
              "      <td>A</td>\n",
              "      <td>0</td>\n",
              "      <td>No Deposit</td>\n",
              "      <td>0</td>\n",
              "      <td>Transient</td>\n",
              "      <td>96.14</td>\n",
              "      <td>0</td>\n",
              "      <td>0</td>\n",
              "      <td>Check-Out</td>\n",
              "      <td>2017-06-09</td>\n",
              "    </tr>\n",
              "    <tr>\n",
              "      <th>119386</th>\n",
              "      <td>City Hotel</td>\n",
              "      <td>0</td>\n",
              "      <td>102</td>\n",
              "      <td>2017</td>\n",
              "      <td>August</td>\n",
              "      <td>35</td>\n",
              "      <td>31</td>\n",
              "      <td>2</td>\n",
              "      <td>5</td>\n",
              "      <td>3</td>\n",
              "      <td>...</td>\n",
              "      <td>E</td>\n",
              "      <td>0</td>\n",
              "      <td>No Deposit</td>\n",
              "      <td>0</td>\n",
              "      <td>Transient</td>\n",
              "      <td>225.43</td>\n",
              "      <td>0</td>\n",
              "      <td>2</td>\n",
              "      <td>Check-Out</td>\n",
              "      <td>2017-07-09</td>\n",
              "    </tr>\n",
              "    <tr>\n",
              "      <th>119387</th>\n",
              "      <td>City Hotel</td>\n",
              "      <td>0</td>\n",
              "      <td>34</td>\n",
              "      <td>2017</td>\n",
              "      <td>August</td>\n",
              "      <td>35</td>\n",
              "      <td>31</td>\n",
              "      <td>2</td>\n",
              "      <td>5</td>\n",
              "      <td>2</td>\n",
              "      <td>...</td>\n",
              "      <td>D</td>\n",
              "      <td>0</td>\n",
              "      <td>No Deposit</td>\n",
              "      <td>0</td>\n",
              "      <td>Transient</td>\n",
              "      <td>157.71</td>\n",
              "      <td>0</td>\n",
              "      <td>4</td>\n",
              "      <td>Check-Out</td>\n",
              "      <td>2017-07-09</td>\n",
              "    </tr>\n",
              "    <tr>\n",
              "      <th>119388</th>\n",
              "      <td>City Hotel</td>\n",
              "      <td>0</td>\n",
              "      <td>109</td>\n",
              "      <td>2017</td>\n",
              "      <td>August</td>\n",
              "      <td>35</td>\n",
              "      <td>31</td>\n",
              "      <td>2</td>\n",
              "      <td>5</td>\n",
              "      <td>2</td>\n",
              "      <td>...</td>\n",
              "      <td>A</td>\n",
              "      <td>0</td>\n",
              "      <td>No Deposit</td>\n",
              "      <td>0</td>\n",
              "      <td>Transient</td>\n",
              "      <td>104.40</td>\n",
              "      <td>0</td>\n",
              "      <td>0</td>\n",
              "      <td>Check-Out</td>\n",
              "      <td>2017-07-09</td>\n",
              "    </tr>\n",
              "    <tr>\n",
              "      <th>119389</th>\n",
              "      <td>City Hotel</td>\n",
              "      <td>0</td>\n",
              "      <td>205</td>\n",
              "      <td>2017</td>\n",
              "      <td>August</td>\n",
              "      <td>35</td>\n",
              "      <td>29</td>\n",
              "      <td>2</td>\n",
              "      <td>7</td>\n",
              "      <td>2</td>\n",
              "      <td>...</td>\n",
              "      <td>A</td>\n",
              "      <td>0</td>\n",
              "      <td>No Deposit</td>\n",
              "      <td>0</td>\n",
              "      <td>Transient</td>\n",
              "      <td>151.20</td>\n",
              "      <td>0</td>\n",
              "      <td>2</td>\n",
              "      <td>Check-Out</td>\n",
              "      <td>2017-07-09</td>\n",
              "    </tr>\n",
              "  </tbody>\n",
              "</table>\n",
              "<p>86914 rows × 30 columns</p>\n",
              "</div>\n",
              "      <button class=\"colab-df-convert\" onclick=\"convertToInteractive('df-3cea0402-1747-4a9a-ac35-c2c9ab7b13ae')\"\n",
              "              title=\"Convert this dataframe to an interactive table.\"\n",
              "              style=\"display:none;\">\n",
              "        \n",
              "  <svg xmlns=\"http://www.w3.org/2000/svg\" height=\"24px\"viewBox=\"0 0 24 24\"\n",
              "       width=\"24px\">\n",
              "    <path d=\"M0 0h24v24H0V0z\" fill=\"none\"/>\n",
              "    <path d=\"M18.56 5.44l.94 2.06.94-2.06 2.06-.94-2.06-.94-.94-2.06-.94 2.06-2.06.94zm-11 1L8.5 8.5l.94-2.06 2.06-.94-2.06-.94L8.5 2.5l-.94 2.06-2.06.94zm10 10l.94 2.06.94-2.06 2.06-.94-2.06-.94-.94-2.06-.94 2.06-2.06.94z\"/><path d=\"M17.41 7.96l-1.37-1.37c-.4-.4-.92-.59-1.43-.59-.52 0-1.04.2-1.43.59L10.3 9.45l-7.72 7.72c-.78.78-.78 2.05 0 2.83L4 21.41c.39.39.9.59 1.41.59.51 0 1.02-.2 1.41-.59l7.78-7.78 2.81-2.81c.8-.78.8-2.07 0-2.86zM5.41 20L4 18.59l7.72-7.72 1.47 1.35L5.41 20z\"/>\n",
              "  </svg>\n",
              "      </button>\n",
              "      \n",
              "  <style>\n",
              "    .colab-df-container {\n",
              "      display:flex;\n",
              "      flex-wrap:wrap;\n",
              "      gap: 12px;\n",
              "    }\n",
              "\n",
              "    .colab-df-convert {\n",
              "      background-color: #E8F0FE;\n",
              "      border: none;\n",
              "      border-radius: 50%;\n",
              "      cursor: pointer;\n",
              "      display: none;\n",
              "      fill: #1967D2;\n",
              "      height: 32px;\n",
              "      padding: 0 0 0 0;\n",
              "      width: 32px;\n",
              "    }\n",
              "\n",
              "    .colab-df-convert:hover {\n",
              "      background-color: #E2EBFA;\n",
              "      box-shadow: 0px 1px 2px rgba(60, 64, 67, 0.3), 0px 1px 3px 1px rgba(60, 64, 67, 0.15);\n",
              "      fill: #174EA6;\n",
              "    }\n",
              "\n",
              "    [theme=dark] .colab-df-convert {\n",
              "      background-color: #3B4455;\n",
              "      fill: #D2E3FC;\n",
              "    }\n",
              "\n",
              "    [theme=dark] .colab-df-convert:hover {\n",
              "      background-color: #434B5C;\n",
              "      box-shadow: 0px 1px 3px 1px rgba(0, 0, 0, 0.15);\n",
              "      filter: drop-shadow(0px 1px 2px rgba(0, 0, 0, 0.3));\n",
              "      fill: #FFFFFF;\n",
              "    }\n",
              "  </style>\n",
              "\n",
              "      <script>\n",
              "        const buttonEl =\n",
              "          document.querySelector('#df-3cea0402-1747-4a9a-ac35-c2c9ab7b13ae button.colab-df-convert');\n",
              "        buttonEl.style.display =\n",
              "          google.colab.kernel.accessAllowed ? 'block' : 'none';\n",
              "\n",
              "        async function convertToInteractive(key) {\n",
              "          const element = document.querySelector('#df-3cea0402-1747-4a9a-ac35-c2c9ab7b13ae');\n",
              "          const dataTable =\n",
              "            await google.colab.kernel.invokeFunction('convertToInteractive',\n",
              "                                                     [key], {});\n",
              "          if (!dataTable) return;\n",
              "\n",
              "          const docLinkHtml = 'Like what you see? Visit the ' +\n",
              "            '<a target=\"_blank\" href=https://colab.research.google.com/notebooks/data_table.ipynb>data table notebook</a>'\n",
              "            + ' to learn more about interactive tables.';\n",
              "          element.innerHTML = '';\n",
              "          dataTable['output_type'] = 'display_data';\n",
              "          await google.colab.output.renderOutput(dataTable, element);\n",
              "          const docLink = document.createElement('div');\n",
              "          docLink.innerHTML = docLinkHtml;\n",
              "          element.appendChild(docLink);\n",
              "        }\n",
              "      </script>\n",
              "    </div>\n",
              "  </div>\n",
              "  "
            ]
          },
          "metadata": {},
          "execution_count": 15
        }
      ],
      "source": [
        "df"
      ]
    },
    {
      "cell_type": "code",
      "execution_count": 16,
      "metadata": {
        "colab": {
          "base_uri": "https://localhost:8080/"
        },
        "id": "1Nn8H2fyljdk",
        "outputId": "91b6a844-5523-44dc-d593-ec04cfaefffa"
      },
      "outputs": [
        {
          "output_type": "execute_result",
          "data": {
            "text/plain": [
              "hotel                             0\n",
              "is_canceled                       0\n",
              "reservation_status                0\n",
              "total_of_special_requests         0\n",
              "required_car_parking_spaces       0\n",
              "adr                               0\n",
              "customer_type                     0\n",
              "days_in_waiting_list              0\n",
              "deposit_type                      0\n",
              "booking_changes                   0\n",
              "assigned_room_type                0\n",
              "reserved_room_type                0\n",
              "previous_bookings_not_canceled    0\n",
              "previous_cancellations            0\n",
              "is_repeated_guest                 0\n",
              "distribution_channel              0\n",
              "market_segment                    0\n",
              "country                           0\n",
              "meal                              0\n",
              "babies                            0\n",
              "children                          0\n",
              "adults                            0\n",
              "stays_in_week_nights              0\n",
              "stays_in_weekend_nights           0\n",
              "arrival_date_day_of_month         0\n",
              "arrival_date_week_number          0\n",
              "arrival_date_month                0\n",
              "arrival_date_year                 0\n",
              "lead_time                         0\n",
              "reservation_status_date           0\n",
              "dtype: int64"
            ]
          },
          "metadata": {},
          "execution_count": 16
        }
      ],
      "source": [
        "df.isnull().sum().sort_values(ascending=False)"
      ]
    },
    {
      "cell_type": "code",
      "execution_count": 17,
      "metadata": {
        "colab": {
          "base_uri": "https://localhost:8080/"
        },
        "id": "iqbBEpHVmhTZ",
        "outputId": "f686a3e2-e6ea-41fc-d724-e6279f0ca4fe"
      },
      "outputs": [
        {
          "output_type": "stream",
          "name": "stdout",
          "text": [
            "hotel                                                    [Resort Hotel, City Hotel]\n",
            "is_canceled                                                                  [0, 1]\n",
            "lead_time                         [342, 737, 7, 13, 14, 0, 9, 85, 75, 23, 35, 68...\n",
            "arrival_date_year                                                [2015, 2016, 2017]\n",
            "arrival_date_month                [July, August, September, October, November, D...\n",
            "arrival_date_week_number          [27, 28, 29, 30, 31, 32, 33, 34, 35, 36, 37, 3...\n",
            "arrival_date_day_of_month         [1, 2, 3, 4, 5, 6, 7, 8, 9, 10, 11, 12, 13, 14...\n",
            "stays_in_weekend_nights           [0, 1, 2, 4, 3, 6, 13, 8, 5, 7, 12, 9, 16, 10,...\n",
            "stays_in_week_nights              [0, 1, 2, 3, 4, 5, 11, 8, 10, 6, 7, 15, 9, 12,...\n",
            "adults                            [2, 1, 3, 4, 40, 26, 50, 27, 55, 0, 20, 6, 5, 10]\n",
            "children                                                 [0.0, 1.0, 2.0, 10.0, 3.0]\n",
            "babies                                                             [0, 1, 2, 10, 9]\n",
            "meal                                                    [BB, FB, HB, SC, Undefined]\n",
            "country                           [PRT, GBR, USA, ESP, IRL, FRA, ROU, NOR, OMN, ...\n",
            "market_segment                    [Direct, Corporate, Online TA, Offline TA/TO, ...\n",
            "distribution_channel                     [Direct, Corporate, TA/TO, Undefined, GDS]\n",
            "is_repeated_guest                                                            [0, 1]\n",
            "previous_cancellations            [0, 1, 2, 3, 26, 25, 14, 4, 24, 19, 5, 21, 6, ...\n",
            "previous_bookings_not_canceled    [0, 1, 2, 3, 5, 4, 6, 7, 8, 9, 10, 11, 12, 13,...\n",
            "reserved_room_type                                   [C, A, D, E, G, F, H, L, B, P]\n",
            "assigned_room_type                             [C, A, D, E, G, F, I, B, H, L, K, P]\n",
            "booking_changes                   [3, 4, 0, 1, 2, 5, 17, 6, 8, 7, 10, 16, 9, 13,...\n",
            "deposit_type                                   [No Deposit, Refundable, Non Refund]\n",
            "days_in_waiting_list              [0, 50, 47, 65, 122, 75, 101, 150, 125, 14, 60...\n",
            "customer_type                         [Transient, Contract, Transient-Party, Group]\n",
            "adr                               [0.0, 75.0, 98.0, 107.0, 103.0, 82.0, 105.5, 1...\n",
            "required_car_parking_spaces                                         [0, 1, 2, 8, 3]\n",
            "total_of_special_requests                                        [0, 1, 3, 2, 4, 5]\n",
            "reservation_status                                   [Check-Out, Canceled, No-Show]\n",
            "reservation_status_date           [2015-01-07T00:00:00.000000000, 2015-02-07T00:...\n",
            "dtype: object\n"
          ]
        }
      ],
      "source": [
        "# Check unique values for each variable\n",
        "print(df.apply(lambda col: col.unique())) #we describe unique value in all individual column"
      ]
    },
    {
      "cell_type": "code",
      "execution_count": 18,
      "metadata": {
        "colab": {
          "base_uri": "https://localhost:8080/",
          "height": 283
        },
        "id": "KAKxHYEIgSf2",
        "outputId": "b6ca4cfa-ceba-4375-8024-d6d5b700e9df"
      },
      "outputs": [
        {
          "output_type": "execute_result",
          "data": {
            "text/plain": [
              "<Axes: >"
            ]
          },
          "metadata": {},
          "execution_count": 18
        },
        {
          "output_type": "display_data",
          "data": {
            "text/plain": [
              "<Figure size 432x288 with 1 Axes>"
            ],
            "image/png": "[encoded data removed]"
          },
          "metadata": {
            "needs_background": "light"
          }
        }
      ],
      "source": [
        "df[\"adr\"].plot(kind=\"box\")"
      ]
    },
    {
      "cell_type": "code",
      "execution_count": 19,
      "metadata": {
        "id": "Ya13tVVjgShw"
      },
      "outputs": [],
      "source": [
        "df=df[df[\"adr\"]<5000]"
      ]
    },
    {
      "cell_type": "code",
      "execution_count": 20,
      "metadata": {
        "colab": {
          "base_uri": "https://localhost:8080/"
        },
        "id": "TF-m-b-sn9BT",
        "outputId": "a35eb9cf-33e2-4e09-9e84-6db53c5a0224"
      },
      "outputs": [
        {
          "output_type": "execute_result",
          "data": {
            "text/plain": [
              "0         Not canceled\n",
              "1         Not canceled\n",
              "2         Not canceled\n",
              "3         Not canceled\n",
              "4         Not canceled\n",
              "              ...     \n",
              "119385    Not canceled\n",
              "119386    Not canceled\n",
              "119387    Not canceled\n",
              "119388    Not canceled\n",
              "119389    Not canceled\n",
              "Name: is_canceled, Length: 86913, dtype: object"
            ]
          },
          "metadata": {},
          "execution_count": 20
        }
      ],
      "source": [
        "# for understanding we will replace the value (0,1) from column \"is_canceled\" to (\"Not canceled\", Canceled)\n",
        "\n",
        "df[\"is_canceled\"].replace([0,1],[\"Not canceled\",\"Canceled\"])"
      ]
    },
    {
      "cell_type": "code",
      "execution_count": 21,
      "metadata": {
        "colab": {
          "base_uri": "https://localhost:8080/"
        },
        "id": "QjDZt0MCn9L2",
        "outputId": "06faed39-e0f5-4572-e558-f5579189074a"
      },
      "outputs": [
        {
          "output_type": "execute_result",
          "data": {
            "text/plain": [
              "0         Not repeated\n",
              "1         Not repeated\n",
              "2         Not repeated\n",
              "3         Not repeated\n",
              "4         Not repeated\n",
              "              ...     \n",
              "119385    Not repeated\n",
              "119386    Not repeated\n",
              "119387    Not repeated\n",
              "119388    Not repeated\n",
              "119389    Not repeated\n",
              "Name: is_repeated_guest, Length: 86913, dtype: object"
            ]
          },
          "metadata": {},
          "execution_count": 21
        }
      ],
      "source": [
        "# for understanding we will replace the value (0,1) from column \"is_repeted_guest\" to (\"Not canceled\", Canceled)\n",
        "df[\"is_repeated_guest\"].replace([0,1],[\"Not repeated\",\"Repeated\"])"
      ]
    },
    {
      "cell_type": "code",
      "execution_count": 22,
      "metadata": {
        "id": "fRwZ2yfnzxon",
        "colab": {
          "base_uri": "https://localhost:8080/"
        },
        "outputId": "36a571f9-e09d-4c73-82bd-8fe2b947e914"
      },
      "outputs": [
        {
          "output_type": "stream",
          "name": "stderr",
          "text": [
            "<ipython-input-22-49f5bb1135bf>:2: SettingWithCopyWarning: \n",
            "A value is trying to be set on a copy of a slice from a DataFrame.\n",
            "Try using .loc[row_indexer,col_indexer] = value instead\n",
            "\n",
            "See the caveats in the documentation: https://pandas.pydata.org/pandas-docs/stable/user_guide/indexing.html#returning-a-view-versus-a-copy\n",
            "  df[\"totalPeople\"] = df[\"adults\"] + df[\"babies\"] + df[\"children\"]\n",
            "<ipython-input-22-49f5bb1135bf>:3: SettingWithCopyWarning: \n",
            "A value is trying to be set on a copy of a slice from a DataFrame.\n",
            "Try using .loc[row_indexer,col_indexer] = value instead\n",
            "\n",
            "See the caveats in the documentation: https://pandas.pydata.org/pandas-docs/stable/user_guide/indexing.html#returning-a-view-versus-a-copy\n",
            "  df[\"total_stay\"] = df[\"stays_in_weekend_nights\"] + df[\"stays_in_week_nights\"]\n"
          ]
        }
      ],
      "source": [
        "# Creating 2 new Columns\n",
        "df[\"totalPeople\"] = df[\"adults\"] + df[\"babies\"] + df[\"children\"]\n",
        "df[\"total_stay\"] = df[\"stays_in_weekend_nights\"] + df[\"stays_in_week_nights\"]"
      ]
    },
    {
      "cell_type": "code",
      "execution_count": 23,
      "metadata": {
        "colab": {
          "base_uri": "https://localhost:8080/",
          "height": 661
        },
        "id": "O-4zwtubzxuN",
        "outputId": "64d70d36-b208-4516-ca4e-3be9ec9b9bd7"
      },
      "outputs": [
        {
          "output_type": "execute_result",
          "data": {
            "text/plain": [
              "               hotel  is_canceled  lead_time  arrival_date_year  \\\n",
              "0       Resort Hotel            0        342               2015   \n",
              "1       Resort Hotel            0        737               2015   \n",
              "2       Resort Hotel            0          7               2015   \n",
              "3       Resort Hotel            0         13               2015   \n",
              "4       Resort Hotel            0         14               2015   \n",
              "...              ...          ...        ...                ...   \n",
              "119385    City Hotel            0         23               2017   \n",
              "119386    City Hotel            0        102               2017   \n",
              "119387    City Hotel            0         34               2017   \n",
              "119388    City Hotel            0        109               2017   \n",
              "119389    City Hotel            0        205               2017   \n",
              "\n",
              "       arrival_date_month  arrival_date_week_number  \\\n",
              "0                    July                        27   \n",
              "1                    July                        27   \n",
              "2                    July                        27   \n",
              "3                    July                        27   \n",
              "4                    July                        27   \n",
              "...                   ...                       ...   \n",
              "119385             August                        35   \n",
              "119386             August                        35   \n",
              "119387             August                        35   \n",
              "119388             August                        35   \n",
              "119389             August                        35   \n",
              "\n",
              "        arrival_date_day_of_month  stays_in_weekend_nights  \\\n",
              "0                               1                        0   \n",
              "1                               1                        0   \n",
              "2                               1                        0   \n",
              "3                               1                        0   \n",
              "4                               1                        0   \n",
              "...                           ...                      ...   \n",
              "119385                         30                        2   \n",
              "119386                         31                        2   \n",
              "119387                         31                        2   \n",
              "119388                         31                        2   \n",
              "119389                         29                        2   \n",
              "\n",
              "        stays_in_week_nights  adults  ...  deposit_type  days_in_waiting_list  \\\n",
              "0                          0       2  ...    No Deposit                     0   \n",
              "1                          0       2  ...    No Deposit                     0   \n",
              "2                          1       1  ...    No Deposit                     0   \n",
              "3                          1       1  ...    No Deposit                     0   \n",
              "4                          2       2  ...    No Deposit                     0   \n",
              "...                      ...     ...  ...           ...                   ...   \n",
              "119385                     5       2  ...    No Deposit                     0   \n",
              "119386                     5       3  ...    No Deposit                     0   \n",
              "119387                     5       2  ...    No Deposit                     0   \n",
              "119388                     5       2  ...    No Deposit                     0   \n",
              "119389                     7       2  ...    No Deposit                     0   \n",
              "\n",
              "       customer_type     adr required_car_parking_spaces  \\\n",
              "0          Transient    0.00                           0   \n",
              "1          Transient    0.00                           0   \n",
              "2          Transient   75.00                           0   \n",
              "3          Transient   75.00                           0   \n",
              "4          Transient   98.00                           0   \n",
              "...              ...     ...                         ...   \n",
              "119385     Transient   96.14                           0   \n",
              "119386     Transient  225.43                           0   \n",
              "119387     Transient  157.71                           0   \n",
              "119388     Transient  104.40                           0   \n",
              "119389     Transient  151.20                           0   \n",
              "\n",
              "       total_of_special_requests  reservation_status  reservation_status_date  \\\n",
              "0                              0           Check-Out               2015-01-07   \n",
              "1                              0           Check-Out               2015-01-07   \n",
              "2                              0           Check-Out               2015-02-07   \n",
              "3                              0           Check-Out               2015-02-07   \n",
              "4                              1           Check-Out               2015-03-07   \n",
              "...                          ...                 ...                      ...   \n",
              "119385                         0           Check-Out               2017-06-09   \n",
              "119386                         2           Check-Out               2017-07-09   \n",
              "119387                         4           Check-Out               2017-07-09   \n",
              "119388                         0           Check-Out               2017-07-09   \n",
              "119389                         2           Check-Out               2017-07-09   \n",
              "\n",
              "        totalPeople total_stay  \n",
              "0               2.0          0  \n",
              "1               2.0          0  \n",
              "2               1.0          1  \n",
              "3               1.0          1  \n",
              "4               2.0          2  \n",
              "...             ...        ...  \n",
              "119385          2.0          7  \n",
              "119386          3.0          7  \n",
              "119387          2.0          7  \n",
              "119388          2.0          7  \n",
              "119389          2.0          9  \n",
              "\n",
              "[86913 rows x 32 columns]"
            ],
            "text/html": [
              "\n",
              "  <div id=\"df-44627cc4-4405-4bff-a51e-9b7b175542f0\">\n",
              "    <div class=\"colab-df-container\">\n",
              "      <div>\n",
              "<style scoped>\n",
              "    .dataframe tbody tr th:only-of-type {\n",
              "        vertical-align: middle;\n",
              "    }\n",
              "\n",
              "    .dataframe tbody tr th {\n",
              "        vertical-align: top;\n",
              "    }\n",
              "\n",
              "    .dataframe thead th {\n",
              "        text-align: right;\n",
              "    }\n",
              "</style>\n",
              "<table border=\"1\" class=\"dataframe\">\n",
              "  <thead>\n",
              "    <tr style=\"text-align: right;\">\n",
              "      <th></th>\n",
              "      <th>hotel</th>\n",
              "      <th>is_canceled</th>\n",
              "      <th>lead_time</th>\n",
              "      <th>arrival_date_year</th>\n",
              "      <th>arrival_date_month</th>\n",
              "      <th>arrival_date_week_number</th>\n",
              "      <th>arrival_date_day_of_month</th>\n",
              "      <th>stays_in_weekend_nights</th>\n",
              "      <th>stays_in_week_nights</th>\n",
              "      <th>adults</th>\n",
              "      <th>...</th>\n",
              "      <th>deposit_type</th>\n",
              "      <th>days_in_waiting_list</th>\n",
              "      <th>customer_type</th>\n",
              "      <th>adr</th>\n",
              "      <th>required_car_parking_spaces</th>\n",
              "      <th>total_of_special_requests</th>\n",
              "      <th>reservation_status</th>\n",
              "      <th>reservation_status_date</th>\n",
              "      <th>totalPeople</th>\n",
              "      <th>total_stay</th>\n",
              "    </tr>\n",
              "  </thead>\n",
              "  <tbody>\n",
              "    <tr>\n",
              "      <th>0</th>\n",
              "      <td>Resort Hotel</td>\n",
              "      <td>0</td>\n",
              "      <td>342</td>\n",
              "      <td>2015</td>\n",
              "      <td>July</td>\n",
              "      <td>27</td>\n",
              "      <td>1</td>\n",
              "      <td>0</td>\n",
              "      <td>0</td>\n",
              "      <td>2</td>\n",
              "      <td>...</td>\n",
              "      <td>No Deposit</td>\n",
              "      <td>0</td>\n",
              "      <td>Transient</td>\n",
              "      <td>0.00</td>\n",
              "      <td>0</td>\n",
              "      <td>0</td>\n",
              "      <td>Check-Out</td>\n",
              "      <td>2015-01-07</td>\n",
              "      <td>2.0</td>\n",
              "      <td>0</td>\n",
              "    </tr>\n",
              "    <tr>\n",
              "      <th>1</th>\n",
              "      <td>Resort Hotel</td>\n",
              "      <td>0</td>\n",
              "      <td>737</td>\n",
              "      <td>2015</td>\n",
              "      <td>July</td>\n",
              "      <td>27</td>\n",
              "      <td>1</td>\n",
              "      <td>0</td>\n",
              "      <td>0</td>\n",
              "      <td>2</td>\n",
              "      <td>...</td>\n",
              "      <td>No Deposit</td>\n",
              "      <td>0</td>\n",
              "      <td>Transient</td>\n",
              "      <td>0.00</td>\n",
              "      <td>0</td>\n",
              "      <td>0</td>\n",
              "      <td>Check-Out</td>\n",
              "      <td>2015-01-07</td>\n",
              "      <td>2.0</td>\n",
              "      <td>0</td>\n",
              "    </tr>\n",
              "    <tr>\n",
              "      <th>2</th>\n",
              "      <td>Resort Hotel</td>\n",
              "      <td>0</td>\n",
              "      <td>7</td>\n",
              "      <td>2015</td>\n",
              "      <td>July</td>\n",
              "      <td>27</td>\n",
              "      <td>1</td>\n",
              "      <td>0</td>\n",
              "      <td>1</td>\n",
              "      <td>1</td>\n",
              "      <td>...</td>\n",
              "      <td>No Deposit</td>\n",
              "      <td>0</td>\n",
              "      <td>Transient</td>\n",
              "      <td>75.00</td>\n",
              "      <td>0</td>\n",
              "      <td>0</td>\n",
              "      <td>Check-Out</td>\n",
              "      <td>2015-02-07</td>\n",
              "      <td>1.0</td>\n",
              "      <td>1</td>\n",
              "    </tr>\n",
              "    <tr>\n",
              "      <th>3</th>\n",
              "      <td>Resort Hotel</td>\n",
              "      <td>0</td>\n",
              "      <td>13</td>\n",
              "      <td>2015</td>\n",
              "      <td>July</td>\n",
              "      <td>27</td>\n",
              "      <td>1</td>\n",
              "      <td>0</td>\n",
              "      <td>1</td>\n",
              "      <td>1</td>\n",
              "      <td>...</td>\n",
              "      <td>No Deposit</td>\n",
              "      <td>0</td>\n",
              "      <td>Transient</td>\n",
              "      <td>75.00</td>\n",
              "      <td>0</td>\n",
              "      <td>0</td>\n",
              "      <td>Check-Out</td>\n",
              "      <td>2015-02-07</td>\n",
              "      <td>1.0</td>\n",
              "      <td>1</td>\n",
              "    </tr>\n",
              "    <tr>\n",
              "      <th>4</th>\n",
              "      <td>Resort Hotel</td>\n",
              "      <td>0</td>\n",
              "      <td>14</td>\n",
              "      <td>2015</td>\n",
              "      <td>July</td>\n",
              "      <td>27</td>\n",
              "      <td>1</td>\n",
              "      <td>0</td>\n",
              "      <td>2</td>\n",
              "      <td>2</td>\n",
              "      <td>...</td>\n",
              "      <td>No Deposit</td>\n",
              "      <td>0</td>\n",
              "      <td>Transient</td>\n",
              "      <td>98.00</td>\n",
              "      <td>0</td>\n",
              "      <td>1</td>\n",
              "      <td>Check-Out</td>\n",
              "      <td>2015-03-07</td>\n",
              "      <td>2.0</td>\n",
              "      <td>2</td>\n",
              "    </tr>\n",
              "    <tr>\n",
              "      <th>...</th>\n",
              "      <td>...</td>\n",
              "      <td>...</td>\n",
              "      <td>...</td>\n",
              "      <td>...</td>\n",
              "      <td>...</td>\n",
              "      <td>...</td>\n",
              "      <td>...</td>\n",
              "      <td>...</td>\n",
              "      <td>...</td>\n",
              "      <td>...</td>\n",
              "      <td>...</td>\n",
              "      <td>...</td>\n",
              "      <td>...</td>\n",
              "      <td>...</td>\n",
              "      <td>...</td>\n",
              "      <td>...</td>\n",
              "      <td>...</td>\n",
              "      <td>...</td>\n",
              "      <td>...</td>\n",
              "      <td>...</td>\n",
              "      <td>...</td>\n",
              "    </tr>\n",
              "    <tr>\n",
              "      <th>119385</th>\n",
              "      <td>City Hotel</td>\n",
              "      <td>0</td>\n",
              "      <td>23</td>\n",
              "      <td>2017</td>\n",
              "      <td>August</td>\n",
              "      <td>35</td>\n",
              "      <td>30</td>\n",
              "      <td>2</td>\n",
              "      <td>5</td>\n",
              "      <td>2</td>\n",
              "      <td>...</td>\n",
              "      <td>No Deposit</td>\n",
              "      <td>0</td>\n",
              "      <td>Transient</td>\n",
              "      <td>96.14</td>\n",
              "      <td>0</td>\n",
              "      <td>0</td>\n",
              "      <td>Check-Out</td>\n",
              "      <td>2017-06-09</td>\n",
              "      <td>2.0</td>\n",
              "      <td>7</td>\n",
              "    </tr>\n",
              "    <tr>\n",
              "      <th>119386</th>\n",
              "      <td>City Hotel</td>\n",
              "      <td>0</td>\n",
              "      <td>102</td>\n",
              "      <td>2017</td>\n",
              "      <td>August</td>\n",
              "      <td>35</td>\n",
              "      <td>31</td>\n",
              "      <td>2</td>\n",
              "      <td>5</td>\n",
              "      <td>3</td>\n",
              "      <td>...</td>\n",
              "      <td>No Deposit</td>\n",
              "      <td>0</td>\n",
              "      <td>Transient</td>\n",
              "      <td>225.43</td>\n",
              "      <td>0</td>\n",
              "      <td>2</td>\n",
              "      <td>Check-Out</td>\n",
              "      <td>2017-07-09</td>\n",
              "      <td>3.0</td>\n",
              "      <td>7</td>\n",
              "    </tr>\n",
              "    <tr>\n",
              "      <th>119387</th>\n",
              "      <td>City Hotel</td>\n",
              "      <td>0</td>\n",
              "      <td>34</td>\n",
              "      <td>2017</td>\n",
              "      <td>August</td>\n",
              "      <td>35</td>\n",
              "      <td>31</td>\n",
              "      <td>2</td>\n",
              "      <td>5</td>\n",
              "      <td>2</td>\n",
              "      <td>...</td>\n",
              "      <td>No Deposit</td>\n",
              "      <td>0</td>\n",
              "      <td>Transient</td>\n",
              "      <td>157.71</td>\n",
              "      <td>0</td>\n",
              "      <td>4</td>\n",
              "      <td>Check-Out</td>\n",
              "      <td>2017-07-09</td>\n",
              "      <td>2.0</td>\n",
              "      <td>7</td>\n",
              "    </tr>\n",
              "    <tr>\n",
              "      <th>119388</th>\n",
              "      <td>City Hotel</td>\n",
              "      <td>0</td>\n",
              "      <td>109</td>\n",
              "      <td>2017</td>\n",
              "      <td>August</td>\n",
              "      <td>35</td>\n",
              "      <td>31</td>\n",
              "      <td>2</td>\n",
              "      <td>5</td>\n",
              "      <td>2</td>\n",
              "      <td>...</td>\n",
              "      <td>No Deposit</td>\n",
              "      <td>0</td>\n",
              "      <td>Transient</td>\n",
              "      <td>104.40</td>\n",
              "      <td>0</td>\n",
              "      <td>0</td>\n",
              "      <td>Check-Out</td>\n",
              "      <td>2017-07-09</td>\n",
              "      <td>2.0</td>\n",
              "      <td>7</td>\n",
              "    </tr>\n",
              "    <tr>\n",
              "      <th>119389</th>\n",
              "      <td>City Hotel</td>\n",
              "      <td>0</td>\n",
              "      <td>205</td>\n",
              "      <td>2017</td>\n",
              "      <td>August</td>\n",
              "      <td>35</td>\n",
              "      <td>29</td>\n",
              "      <td>2</td>\n",
              "      <td>7</td>\n",
              "      <td>2</td>\n",
              "      <td>...</td>\n",
              "      <td>No Deposit</td>\n",
              "      <td>0</td>\n",
              "      <td>Transient</td>\n",
              "      <td>151.20</td>\n",
              "      <td>0</td>\n",
              "      <td>2</td>\n",
              "      <td>Check-Out</td>\n",
              "      <td>2017-07-09</td>\n",
              "      <td>2.0</td>\n",
              "      <td>9</td>\n",
              "    </tr>\n",
              "  </tbody>\n",
              "</table>\n",
              "<p>86913 rows × 32 columns</p>\n",
              "</div>\n",
              "      <button class=\"colab-df-convert\" onclick=\"convertToInteractive('df-44627cc4-4405-4bff-a51e-9b7b175542f0')\"\n",
              "              title=\"Convert this dataframe to an interactive table.\"\n",
              "              style=\"display:none;\">\n",
              "        \n",
              "  <svg xmlns=\"http://www.w3.org/2000/svg\" height=\"24px\"viewBox=\"0 0 24 24\"\n",
              "       width=\"24px\">\n",
              "    <path d=\"M0 0h24v24H0V0z\" fill=\"none\"/>\n",
              "    <path d=\"M18.56 5.44l.94 2.06.94-2.06 2.06-.94-2.06-.94-.94-2.06-.94 2.06-2.06.94zm-11 1L8.5 8.5l.94-2.06 2.06-.94-2.06-.94L8.5 2.5l-.94 2.06-2.06.94zm10 10l.94 2.06.94-2.06 2.06-.94-2.06-.94-.94-2.06-.94 2.06-2.06.94z\"/><path d=\"M17.41 7.96l-1.37-1.37c-.4-.4-.92-.59-1.43-.59-.52 0-1.04.2-1.43.59L10.3 9.45l-7.72 7.72c-.78.78-.78 2.05 0 2.83L4 21.41c.39.39.9.59 1.41.59.51 0 1.02-.2 1.41-.59l7.78-7.78 2.81-2.81c.8-.78.8-2.07 0-2.86zM5.41 20L4 18.59l7.72-7.72 1.47 1.35L5.41 20z\"/>\n",
              "  </svg>\n",
              "      </button>\n",
              "      \n",
              "  <style>\n",
              "    .colab-df-container {\n",
              "      display:flex;\n",
              "      flex-wrap:wrap;\n",
              "      gap: 12px;\n",
              "    }\n",
              "\n",
              "    .colab-df-convert {\n",
              "      background-color: #E8F0FE;\n",
              "      border: none;\n",
              "      border-radius: 50%;\n",
              "      cursor: pointer;\n",
              "      display: none;\n",
              "      fill: #1967D2;\n",
              "      height: 32px;\n",
              "      padding: 0 0 0 0;\n",
              "      width: 32px;\n",
              "    }\n",
              "\n",
              "    .colab-df-convert:hover {\n",
              "      background-color: #E2EBFA;\n",
              "      box-shadow: 0px 1px 2px rgba(60, 64, 67, 0.3), 0px 1px 3px 1px rgba(60, 64, 67, 0.15);\n",
              "      fill: #174EA6;\n",
              "    }\n",
              "\n",
              "    [theme=dark] .colab-df-convert {\n",
              "      background-color: #3B4455;\n",
              "      fill: #D2E3FC;\n",
              "    }\n",
              "\n",
              "    [theme=dark] .colab-df-convert:hover {\n",
              "      background-color: #434B5C;\n",
              "      box-shadow: 0px 1px 3px 1px rgba(0, 0, 0, 0.15);\n",
              "      filter: drop-shadow(0px 1px 2px rgba(0, 0, 0, 0.3));\n",
              "      fill: #FFFFFF;\n",
              "    }\n",
              "  </style>\n",
              "\n",
              "      <script>\n",
              "        const buttonEl =\n",
              "          document.querySelector('#df-44627cc4-4405-4bff-a51e-9b7b175542f0 button.colab-df-convert');\n",
              "        buttonEl.style.display =\n",
              "          google.colab.kernel.accessAllowed ? 'block' : 'none';\n",
              "\n",
              "        async function convertToInteractive(key) {\n",
              "          const element = document.querySelector('#df-44627cc4-4405-4bff-a51e-9b7b175542f0');\n",
              "          const dataTable =\n",
              "            await google.colab.kernel.invokeFunction('convertToInteractive',\n",
              "                                                     [key], {});\n",
              "          if (!dataTable) return;\n",
              "\n",
              "          const docLinkHtml = 'Like what you see? Visit the ' +\n",
              "            '<a target=\"_blank\" href=https://colab.research.google.com/notebooks/data_table.ipynb>data table notebook</a>'\n",
              "            + ' to learn more about interactive tables.';\n",
              "          element.innerHTML = '';\n",
              "          dataTable['output_type'] = 'display_data';\n",
              "          await google.colab.output.renderOutput(dataTable, element);\n",
              "          const docLink = document.createElement('div');\n",
              "          docLink.innerHTML = docLinkHtml;\n",
              "          element.appendChild(docLink);\n",
              "        }\n",
              "      </script>\n",
              "    </div>\n",
              "  </div>\n",
              "  "
            ]
          },
          "metadata": {},
          "execution_count": 23
        }
      ],
      "source": [
        "df"
      ]
    },
    {
      "cell_type": "code",
      "source": [
        "df.to_csv('df.csv')"
      ],
      "metadata": {
        "id": "u2XJQuIRs5AE"
      },
      "execution_count": 24,
      "outputs": []
    },
    {
      "cell_type": "markdown",
      "metadata": {
        "id": "33vtvurRjCJ8"
      },
      "source": [
        "# Data Analysis and Visualization"
      ]
    },
    {
      "cell_type": "code",
      "execution_count": 25,
      "metadata": {
        "colab": {
          "base_uri": "https://localhost:8080/",
          "height": 391
        },
        "id": "454eMqf3gSmW",
        "outputId": "965d20e7-2456-4ba9-e623-80c2171d9733"
      },
      "outputs": [
        {
          "output_type": "stream",
          "name": "stdout",
          "text": [
            "0    0.724069\n",
            "1    0.275931\n",
            "Name: is_canceled, dtype: float64\n"
          ]
        },
        {
          "output_type": "display_data",
          "data": {
            "text/plain": [
              "<Figure size 576x360 with 1 Axes>"
            ],
            "image/png": "[encoded data removed]"
          },
          "metadata": {
            "needs_background": "light"
          }
        }
      ],
      "source": [
        "# Reservation and Cancellation Status\n",
        "cancellation_percentage = df[\"is_canceled\"].value_counts(normalize =  True)\n",
        "print(cancellation_percentage)\n",
        "\n",
        "plt.figure(figsize = (8,5))\n",
        "plt.title(\"Reservation & Cancellation Status\")\n",
        "plt.bar([\"Not Cancelled\",\"Cancelled\"],df[\"is_canceled\"].value_counts(),edgecolor = \"k\",width = 0.7)\n",
        "plt.show()"
      ]
    },
    {
      "cell_type": "markdown",
      "source": [
        "**Insights from chart**\n",
        "- **From bar chart we can see that 72% of Reservations are Not cancelled & 27% of Reservations are cancelled**"
      ],
      "metadata": {
        "id": "ctrTV2j2vTM-"
      }
    },
    {
      "cell_type": "code",
      "execution_count": 26,
      "metadata": {
        "colab": {
          "base_uri": "https://localhost:8080/",
          "height": 286
        },
        "id": "pBnpoRxtgSpF",
        "outputId": "b2f650f6-a56b-4fa1-e13a-1c35c37b69a0"
      },
      "outputs": [
        {
          "output_type": "execute_result",
          "data": {
            "text/plain": [
              "<matplotlib.legend.Legend at 0x7fbfdd7945e0>"
            ]
          },
          "metadata": {},
          "execution_count": 26
        },
        {
          "output_type": "display_data",
          "data": {
            "text/plain": [
              "<Figure size 432x288 with 1 Axes>"
            ],
            "image/png": "[encoded data removed]"
          },
          "metadata": {}
        }
      ],
      "source": [
        "# Cancellation Percentage\n",
        "c=[\"royalblue\",\"lightsteelblue\"]\n",
        "\n",
        "plt.title(\"Cancellation and Non cancellation Percentage\")\n",
        "plt.pie(cancellation_percentage,explode=[0.0,0.1],colors=c,autopct=\"%0.1f%%\",shadow=True,radius=1.2,startangle=180\n",
        "       ,textprops={\"fontsize\":15},counterclock=False,wedgeprops={\"linewidth\":2,\"edgecolor\":\"black\"},rotatelabels=False)\n",
        "plt.legend([\"Not Cancelled\",\"Cancelled\"],bbox_to_anchor=(0.85,1),loc=\"upper left\")\n",
        "\n"
      ]
    },
    {
      "cell_type": "markdown",
      "source": [
        "**Insights from chart**\n",
        "- **From Pie chart we can see that 72.4% of Reservations are Not cancelled & 27.6% of Reservations are cancelled**"
      ],
      "metadata": {
        "id": "G-JiVsYyvU_8"
      }
    },
    {
      "cell_type": "code",
      "execution_count": 27,
      "metadata": {
        "colab": {
          "base_uri": "https://localhost:8080/",
          "height": 350
        },
        "id": "5XG013TZgSrU",
        "outputId": "8bc028d5-2ab5-45af-eeef-003f33d64313"
      },
      "outputs": [
        {
          "output_type": "display_data",
          "data": {
            "text/plain": [
              "<Figure size 576x360 with 1 Axes>"
            ],
            "image/png": "[encoded data removed]"
          },
          "metadata": {
            "needs_background": "light"
          }
        }
      ],
      "source": [
        "# Reservation Status Resort Hotel VS City Hotel\n",
        "plt.figure(figsize = (8,5))\n",
        "ax1= sns.countplot(x=\"hotel\",hue=\"is_canceled\",data=df,palette =\"Blues\",edgecolor=\"k\")\n",
        "plt.title(\"Reservation Status Resort Hotel VS City Hotel\")\n",
        "plt.xlabel(\"Hotel\")\n",
        "plt.ylabel(\"Number of Reservations\")\n",
        "plt.legend([\"Not cancelled\",\"Cancelled\"])\n",
        "plt.show()"
      ]
    },
    {
      "cell_type": "markdown",
      "source": [
        "**Insights from chart**\n",
        "- Here Number of Reservations of Resort hotel are less Compared to City hotel\n",
        "also Number of cancellation of Resort hotel is less compared to City hotel.  "
      ],
      "metadata": {
        "id": "3xfektVsvZEQ"
      }
    },
    {
      "cell_type": "code",
      "source": [
        "#Cancellation Percentage in Resort Hotel\n",
        "resort_hotel=df[df[\"hotel\"]==\"Resort Hotel\"]\n",
        "resort_hotel[\"is_canceled\"].value_counts(normalize=True)\n",
        "# 23% Reservations are cancelled\n",
        "# 76% Reservations are not cancelled\n"
      ],
      "metadata": {
        "colab": {
          "base_uri": "https://localhost:8080/"
        },
        "id": "GvcszsSwRLN2",
        "outputId": "6dbe1aa9-6014-4b86-95ba-151d47e6928f"
      },
      "execution_count": 28,
      "outputs": [
        {
          "output_type": "execute_result",
          "data": {
            "text/plain": [
              "0    0.762936\n",
              "1    0.237064\n",
              "Name: is_canceled, dtype: float64"
            ]
          },
          "metadata": {},
          "execution_count": 28
        }
      ]
    },
    {
      "cell_type": "code",
      "source": [
        "#Cancellation Percentage in City Hotel\n",
        "city_hotel=df[df[\"hotel\"]==\"City Hotel\"]\n",
        "city_hotel[\"is_canceled\"].value_counts(normalize=True)\n",
        "# 30% Reservations are cancelled\n",
        "# 69% Reservations are not cancelled"
      ],
      "metadata": {
        "id": "tCohLPf4RLRC",
        "colab": {
          "base_uri": "https://localhost:8080/"
        },
        "outputId": "d405180c-9fa7-4ab2-e45f-7232adfe647b"
      },
      "execution_count": 29,
      "outputs": [
        {
          "output_type": "execute_result",
          "data": {
            "text/plain": [
              "0    0.69968\n",
              "1    0.30032\n",
              "Name: is_canceled, dtype: float64"
            ]
          },
          "metadata": {},
          "execution_count": 29
        }
      ]
    },
    {
      "cell_type": "code",
      "source": [
        "# Customer Type in Resort Hotel & City Hotel\n",
        "plt.figure(figsize = (13,8))\n",
        "ax1= sns.countplot(x=\"hotel\",hue=\"customer_type\",data=df,palette =\"Blues\",edgecolor=\"k\")\n",
        "plt.title(\"Customer Type in Resort Hotel & City Hotel\")\n",
        "plt.xlabel(\"Hotel\")\n",
        "plt.ylabel(\"Number of Customer Type\")\n",
        "plt.show()\n"
      ],
      "metadata": {
        "id": "Tlifyy-dRLWT",
        "colab": {
          "base_uri": "https://localhost:8080/",
          "height": 513
        },
        "outputId": "87dd2823-8042-4356-da8a-fab9763a0374"
      },
      "execution_count": 30,
      "outputs": [
        {
          "output_type": "display_data",
          "data": {
            "text/plain": [
              "<Figure size 936x576 with 1 Axes>"
            ],
            "image/png": "[encoded data removed]"
          },
          "metadata": {
            "needs_background": "light"
          }
        }
      ]
    },
    {
      "cell_type": "markdown",
      "source": [
        "**Insights from graph**\n",
        "- Transient Customer are the major customers of both resort hotel and city hotel\n",
        "whereas group customer types are minor numbers in both the hotel types.\n",
        "\n",
        "- **transient-party customer type are 2nd major customers of both Resort hotel and City hotel.**"
      ],
      "metadata": {
        "id": "S5X_xaq9vm4_"
      }
    },
    {
      "cell_type": "code",
      "source": [
        "# Customer Type and Their Percentage\n",
        "plt.figure(figsize = (8,5))\n",
        "ax1= sns.barplot(data=df,x=[\"Transient\",\"Transient-party\",\"Contract\",\"Group\"],y=df[\"customer_type\"].value_counts(normalize=True),palette =\"Blues\",edgecolor=\"k\")\n",
        "plt.title(\"Customer Type  and Their Percentage\")\n",
        "plt.xlabel(\"Customer Type\",fontsize=12)\n",
        "plt.ylabel(\"Customer Percentage\",fontsize=12)\n",
        "plt.show()\n",
        "\n",
        "\n",
        "customer_type_percentage = df[\"customer_type\"].value_counts(normalize=True)\n",
        "customer_type_percentage"
      ],
      "metadata": {
        "colab": {
          "base_uri": "https://localhost:8080/",
          "height": 444
        },
        "id": "b_xjYJF8l7eD",
        "outputId": "69481f83-46b7-4c7c-e83f-e79cca6de6ef"
      },
      "execution_count": 31,
      "outputs": [
        {
          "output_type": "display_data",
          "data": {
            "text/plain": [
              "<Figure size 576x360 with 1 Axes>"
            ],
            "image/png": "[encoded data removed]"
          },
          "metadata": {
            "needs_background": "light"
          }
        },
        {
          "output_type": "execute_result",
          "data": {
            "text/plain": [
              "Transient          0.823272\n",
              "Transient-Party    0.134433\n",
              "Contract           0.036117\n",
              "Group              0.006179\n",
              "Name: customer_type, dtype: float64"
            ]
          },
          "metadata": {},
          "execution_count": 31
        }
      ]
    },
    {
      "cell_type": "code",
      "source": [
        "# Cancellation Percentage\n",
        "plt.figure(figsize=(6,5))\n",
        "c=[\"royalblue\",\"lightsteelblue\"]\n",
        "y=[\"City Hotel\",\"Resort Hotel\"]\n",
        "x=df[\"hotel\"].value_counts(normalize=True)\n",
        "plt.title(\"Hotel Popularity Percentage\")\n",
        "plt.pie(x,explode=[0.0,0.1],colors=c,autopct=\"%0.1f%%\",shadow=True,radius=1.2,startangle=180\n",
        "       ,textprops={\"fontsize\":15},counterclock=False,wedgeprops={\"linewidth\":2,\"edgecolor\":\"black\"},rotatelabels=False)\n",
        "plt.legend([\"City Hotel\",\"Resort Hotel\"],bbox_to_anchor=(0.85,1),loc=\"upper left\")"
      ],
      "metadata": {
        "colab": {
          "base_uri": "https://localhost:8080/",
          "height": 344
        },
        "id": "whHZlre3tfQG",
        "outputId": "a46cb33e-67f0-463e-ee32-fdbbe0525b50"
      },
      "execution_count": 32,
      "outputs": [
        {
          "output_type": "execute_result",
          "data": {
            "text/plain": [
              "<matplotlib.legend.Legend at 0x7fbfdd6098e0>"
            ]
          },
          "metadata": {},
          "execution_count": 32
        },
        {
          "output_type": "display_data",
          "data": {
            "text/plain": [
              "<Figure size 432x360 with 1 Axes>"
            ],
            "image/png": "[encoded data removed]"
          },
          "metadata": {}
        }
      ]
    },
    {
      "cell_type": "markdown",
      "source": [
        "**Insight from chart**\n",
        "- **Here we found that the booking number is higher in  city hotel which is 61.4% than Resort Hotel which is 38.6% Hence we can say that Customer preferr City hotel over Resort hotel**"
      ],
      "metadata": {
        "id": "tVylELX9vw_7"
      }
    },
    {
      "cell_type": "code",
      "source": [
        "# Required Car Parking Space\n",
        "plt.figure(figsize = (8,5))\n",
        "plt.title(\"Required Car Parking Space\")\n",
        "Car_Parking_Space_required=df[\"required_car_parking_spaces\"].value_counts(normalize=True)\n",
        "Car_Parking_Space_required\n",
        "c=[\"royalblue\",\"lightsteelblue\",\"r\",\"y\",\"g\"]\n",
        "y=[\"0\",\"1\",\"2\",\"3\",\"8\"]\n",
        "plt.pie(Car_Parking_Space_required,labels=y,explode=[0.2,0.0,0.0,0.0,0.0],autopct=\"%0.1f%%\",colors=c,shadow=True,radius=1.2,startangle=180\n",
        "       ,textprops={\"fontsize\":15},counterclock=False,wedgeprops={\"linewidth\":2,\"edgecolor\":\"black\"},rotatelabels=False)\n",
        "plt.legend(bbox_to_anchor=(1,1.1),loc=\"upper left\")\n"
      ],
      "metadata": {
        "colab": {
          "base_uri": "https://localhost:8080/",
          "height": 343
        },
        "id": "X_qAPB54qxcY",
        "outputId": "7e30cbd0-2e5e-4621-f181-d1a6f16e6b56"
      },
      "execution_count": 33,
      "outputs": [
        {
          "output_type": "execute_result",
          "data": {
            "text/plain": [
              "<matplotlib.legend.Legend at 0x7fbfdd56e1f0>"
            ]
          },
          "metadata": {},
          "execution_count": 33
        },
        {
          "output_type": "display_data",
          "data": {
            "text/plain": [
              "<Figure size 576x360 with 1 Axes>"
            ],
            "image/png": "[encoded data removed]"
          },
          "metadata": {}
        }
      ]
    },
    {
      "cell_type": "markdown",
      "source": [
        "**Insights from the chart**\n",
        "- **The pie chart shows 91.7% guests dosent required car parking space only 8.3% guests required car 1 parking space.**\n",
        "\n",
        "- **So the parking space is not a concern for the hotels.**"
      ],
      "metadata": {
        "id": "zxRPatP9v66K"
      }
    },
    {
      "cell_type": "code",
      "source": [
        "# Hotel Type With Highest ADR\n",
        "groupby_hotel=df.groupby(\"hotel\")\n",
        "highest_adr=groupby_hotel[\"adr\"].mean().reset_index()\n",
        "plt.figure(figsize=(10,8))\n",
        "plt.xlabel(\"Hotel Type\",fontsize=15)\n",
        "plt.ylabel(\"ADR\",fontsize=15)\n",
        "plt.title(\"Avg ADR of each hotel type\",fontsize=15)\n",
        "sns.barplot(x=highest_adr[\"hotel\"],y=highest_adr[\"adr\"],palette=\"Blues\",edgecolor=\"k\")"
      ],
      "metadata": {
        "id": "D20g4upSqxpi",
        "colab": {
          "base_uri": "https://localhost:8080/",
          "height": 538
        },
        "outputId": "8eae66ae-0088-4111-f97a-5798b5b09d85"
      },
      "execution_count": 34,
      "outputs": [
        {
          "output_type": "execute_result",
          "data": {
            "text/plain": [
              "<Axes: title={'center': 'Avg ADR of each hotel type'}, xlabel='hotel', ylabel='adr'>"
            ]
          },
          "metadata": {},
          "execution_count": 34
        },
        {
          "output_type": "display_data",
          "data": {
            "text/plain": [
              "<Figure size 720x576 with 1 Axes>"
            ],
            "image/png": "[encoded data removed]"
          },
          "metadata": {
            "needs_background": "light"
          }
        }
      ]
    },
    {
      "cell_type": "markdown",
      "source": [
        "**Insights from chart**\n",
        "- **More the ADR more the revenue. Here City Hotel has the highest Adr.This means city hotel generates the more revenue than the resort hotel**"
      ],
      "metadata": {
        "id": "CuzXm3vewDlG"
      }
    },
    {
      "cell_type": "code",
      "source": [
        "# Year Wise Booking of Hotels\n",
        "\n",
        "plt.figure(figsize=(12,5))\n",
        "sns.countplot(x=\"arrival_date_year\",hue=\"hotel\",palette=\"Blues\",data=df,edgecolor=\"k\")\n",
        "plt.legend([\"Resort Hotel\",\"City Hotel\"])\n",
        "plt.title(\"Year wise booking of hotels\",fontsize=18)\n",
        "plt.xlabel(\"Year\",fontsize=15)\n",
        "plt.ylabel(\"Number of booking\",fontsize=15)\n"
      ],
      "metadata": {
        "id": "imy6IurmRLbz",
        "colab": {
          "base_uri": "https://localhost:8080/",
          "height": 377
        },
        "outputId": "5534ed72-19da-49d0-c40f-57e6089cf17c"
      },
      "execution_count": 35,
      "outputs": [
        {
          "output_type": "execute_result",
          "data": {
            "text/plain": [
              "Text(0, 0.5, 'Number of booking')"
            ]
          },
          "metadata": {},
          "execution_count": 35
        },
        {
          "output_type": "display_data",
          "data": {
            "text/plain": [
              "<Figure size 864x360 with 1 Axes>"
            ],
            "image/png": "[encoded data removed]"
          },
          "metadata": {
            "needs_background": "light"
          }
        }
      ]
    },
    {
      "cell_type": "markdown",
      "source": [
        "**Insights from the graph**\n",
        "- **We can clearly deduce from the above countplot that year 2016 has the most number of bookings for both city and resort hotels.**\n",
        "\n",
        "- **Year 2015 has the least number of bookings for both city and resort hotels.** "
      ],
      "metadata": {
        "id": "_ru41DBJwIOW"
      }
    },
    {
      "cell_type": "code",
      "source": [
        "#Reservation Status Per Month\n",
        "df[\"month\"] = df[\"reservation_status_date\"].dt.month\n",
        "plt.figure(figsize = (16,8))\n",
        "ax1 = sns.countplot(x=\"month\", hue=\"is_canceled\",data=df,palette = \"Blues\",edgecolor=\"k\" )\n",
        "legend_labels,_=ax1.get_legend_handles_labels()\n",
        "ax1.legend(bbox_to_anchor=(1,1))\n",
        "plt.title(\"Reservation status per month\", size = 20)\n",
        "plt.xlabel(\"month\",fontsize=15)\n",
        "plt.ylabel(\"number of reservations\",fontsize=15)\n",
        "plt.legend([\"Not Canceled\", \"Canceled\"])\n",
        "plt.show()"
      ],
      "metadata": {
        "id": "-tcpOnGhNCDu",
        "colab": {
          "base_uri": "https://localhost:8080/",
          "height": 632
        },
        "outputId": "e57176c4-2a7b-46d2-c2bd-5109895a822f"
      },
      "execution_count": 36,
      "outputs": [
        {
          "output_type": "stream",
          "name": "stderr",
          "text": [
            "<ipython-input-36-0e1c29498ee8>:2: SettingWithCopyWarning: \n",
            "A value is trying to be set on a copy of a slice from a DataFrame.\n",
            "Try using .loc[row_indexer,col_indexer] = value instead\n",
            "\n",
            "See the caveats in the documentation: https://pandas.pydata.org/pandas-docs/stable/user_guide/indexing.html#returning-a-view-versus-a-copy\n",
            "  df[\"month\"] = df[\"reservation_status_date\"].dt.month\n"
          ]
        },
        {
          "output_type": "display_data",
          "data": {
            "text/plain": [
              "<Figure size 1152x576 with 1 Axes>"
            ],
            "image/png": "[encoded data removed]"
          },
          "metadata": {
            "needs_background": "light"
          }
        }
      ]
    },
    {
      "cell_type": "markdown",
      "source": [
        "**Insights from graph**\n",
        "-  **Most  no of reservations are in 8th month i.e August first three monts have more Reservation cancelled.**"
      ],
      "metadata": {
        "id": "I_ZibN8awN2U"
      }
    },
    {
      "cell_type": "code",
      "source": [
        "# ADR Across different months \n",
        "booking_by_months = df.groupby([\"arrival_date_month\",\"hotel\"])[\"adr\"].mean().reset_index()\n",
        "\n",
        "months = [\"January\",\"February\",\"March\",\"April\",\"May\",\"June\",\"July\",\"August\",\"September\",\"October\",\"November\",\"December\"]\n",
        "\n",
        "booking_by_months[\"arrival_date_month\"]=pd.Categorical(booking_by_months[\"arrival_date_month\"],categories=months,ordered=True)\n",
        "\n",
        "booking_by_months=booking_by_months.sort_values(\"arrival_date_month\")\n",
        "\n",
        "booking_by_months"
      ],
      "metadata": {
        "id": "jcoW_hdQNCIY",
        "colab": {
          "base_uri": "https://localhost:8080/",
          "height": 802
        },
        "outputId": "428bb495-77ea-4299-c727-580cce874970"
      },
      "execution_count": 37,
      "outputs": [
        {
          "output_type": "execute_result",
          "data": {
            "text/plain": [
              "   arrival_date_month         hotel         adr\n",
              "8             January    City Hotel   85.092612\n",
              "9             January  Resort Hotel   49.374397\n",
              "6            February    City Hotel   88.948063\n",
              "7            February  Resort Hotel   54.413231\n",
              "15              March  Resort Hotel   57.915090\n",
              "14              March    City Hotel   93.679075\n",
              "0               April    City Hotel  117.181672\n",
              "1               April  Resort Hotel   79.636959\n",
              "17                May  Resort Hotel   80.633563\n",
              "16                May    City Hotel  127.848625\n",
              "13               June  Resort Hotel  112.482456\n",
              "12               June    City Hotel  123.841845\n",
              "11               July  Resort Hotel  156.495625\n",
              "10               July    City Hotel  120.056964\n",
              "3              August  Resort Hotel  187.723289\n",
              "2              August    City Hotel  124.966269\n",
              "22          September    City Hotel  118.557973\n",
              "23          September  Resort Hotel  100.847503\n",
              "20            October    City Hotel  107.314222\n",
              "21            October  Resort Hotel   63.877395\n",
              "18           November    City Hotel   89.485886\n",
              "19           November  Resort Hotel   49.036440\n",
              "5            December  Resort Hotel   65.574432\n",
              "4            December    City Hotel   92.748112"
            ],
            "text/html": [
              "\n",
              "  <div id=\"df-d927eb9e-2c20-42b6-bcb2-d504b0bd531f\">\n",
              "    <div class=\"colab-df-container\">\n",
              "      <div>\n",
              "<style scoped>\n",
              "    .dataframe tbody tr th:only-of-type {\n",
              "        vertical-align: middle;\n",
              "    }\n",
              "\n",
              "    .dataframe tbody tr th {\n",
              "        vertical-align: top;\n",
              "    }\n",
              "\n",
              "    .dataframe thead th {\n",
              "        text-align: right;\n",
              "    }\n",
              "</style>\n",
              "<table border=\"1\" class=\"dataframe\">\n",
              "  <thead>\n",
              "    <tr style=\"text-align: right;\">\n",
              "      <th></th>\n",
              "      <th>arrival_date_month</th>\n",
              "      <th>hotel</th>\n",
              "      <th>adr</th>\n",
              "    </tr>\n",
              "  </thead>\n",
              "  <tbody>\n",
              "    <tr>\n",
              "      <th>8</th>\n",
              "      <td>January</td>\n",
              "      <td>City Hotel</td>\n",
              "      <td>85.092612</td>\n",
              "    </tr>\n",
              "    <tr>\n",
              "      <th>9</th>\n",
              "      <td>January</td>\n",
              "      <td>Resort Hotel</td>\n",
              "      <td>49.374397</td>\n",
              "    </tr>\n",
              "    <tr>\n",
              "      <th>6</th>\n",
              "      <td>February</td>\n",
              "      <td>City Hotel</td>\n",
              "      <td>88.948063</td>\n",
              "    </tr>\n",
              "    <tr>\n",
              "      <th>7</th>\n",
              "      <td>February</td>\n",
              "      <td>Resort Hotel</td>\n",
              "      <td>54.413231</td>\n",
              "    </tr>\n",
              "    <tr>\n",
              "      <th>15</th>\n",
              "      <td>March</td>\n",
              "      <td>Resort Hotel</td>\n",
              "      <td>57.915090</td>\n",
              "    </tr>\n",
              "    <tr>\n",
              "      <th>14</th>\n",
              "      <td>March</td>\n",
              "      <td>City Hotel</td>\n",
              "      <td>93.679075</td>\n",
              "    </tr>\n",
              "    <tr>\n",
              "      <th>0</th>\n",
              "      <td>April</td>\n",
              "      <td>City Hotel</td>\n",
              "      <td>117.181672</td>\n",
              "    </tr>\n",
              "    <tr>\n",
              "      <th>1</th>\n",
              "      <td>April</td>\n",
              "      <td>Resort Hotel</td>\n",
              "      <td>79.636959</td>\n",
              "    </tr>\n",
              "    <tr>\n",
              "      <th>17</th>\n",
              "      <td>May</td>\n",
              "      <td>Resort Hotel</td>\n",
              "      <td>80.633563</td>\n",
              "    </tr>\n",
              "    <tr>\n",
              "      <th>16</th>\n",
              "      <td>May</td>\n",
              "      <td>City Hotel</td>\n",
              "      <td>127.848625</td>\n",
              "    </tr>\n",
              "    <tr>\n",
              "      <th>13</th>\n",
              "      <td>June</td>\n",
              "      <td>Resort Hotel</td>\n",
              "      <td>112.482456</td>\n",
              "    </tr>\n",
              "    <tr>\n",
              "      <th>12</th>\n",
              "      <td>June</td>\n",
              "      <td>City Hotel</td>\n",
              "      <td>123.841845</td>\n",
              "    </tr>\n",
              "    <tr>\n",
              "      <th>11</th>\n",
              "      <td>July</td>\n",
              "      <td>Resort Hotel</td>\n",
              "      <td>156.495625</td>\n",
              "    </tr>\n",
              "    <tr>\n",
              "      <th>10</th>\n",
              "      <td>July</td>\n",
              "      <td>City Hotel</td>\n",
              "      <td>120.056964</td>\n",
              "    </tr>\n",
              "    <tr>\n",
              "      <th>3</th>\n",
              "      <td>August</td>\n",
              "      <td>Resort Hotel</td>\n",
              "      <td>187.723289</td>\n",
              "    </tr>\n",
              "    <tr>\n",
              "      <th>2</th>\n",
              "      <td>August</td>\n",
              "      <td>City Hotel</td>\n",
              "      <td>124.966269</td>\n",
              "    </tr>\n",
              "    <tr>\n",
              "      <th>22</th>\n",
              "      <td>September</td>\n",
              "      <td>City Hotel</td>\n",
              "      <td>118.557973</td>\n",
              "    </tr>\n",
              "    <tr>\n",
              "      <th>23</th>\n",
              "      <td>September</td>\n",
              "      <td>Resort Hotel</td>\n",
              "      <td>100.847503</td>\n",
              "    </tr>\n",
              "    <tr>\n",
              "      <th>20</th>\n",
              "      <td>October</td>\n",
              "      <td>City Hotel</td>\n",
              "      <td>107.314222</td>\n",
              "    </tr>\n",
              "    <tr>\n",
              "      <th>21</th>\n",
              "      <td>October</td>\n",
              "      <td>Resort Hotel</td>\n",
              "      <td>63.877395</td>\n",
              "    </tr>\n",
              "    <tr>\n",
              "      <th>18</th>\n",
              "      <td>November</td>\n",
              "      <td>City Hotel</td>\n",
              "      <td>89.485886</td>\n",
              "    </tr>\n",
              "    <tr>\n",
              "      <th>19</th>\n",
              "      <td>November</td>\n",
              "      <td>Resort Hotel</td>\n",
              "      <td>49.036440</td>\n",
              "    </tr>\n",
              "    <tr>\n",
              "      <th>5</th>\n",
              "      <td>December</td>\n",
              "      <td>Resort Hotel</td>\n",
              "      <td>65.574432</td>\n",
              "    </tr>\n",
              "    <tr>\n",
              "      <th>4</th>\n",
              "      <td>December</td>\n",
              "      <td>City Hotel</td>\n",
              "      <td>92.748112</td>\n",
              "    </tr>\n",
              "  </tbody>\n",
              "</table>\n",
              "</div>\n",
              "      <button class=\"colab-df-convert\" onclick=\"convertToInteractive('df-d927eb9e-2c20-42b6-bcb2-d504b0bd531f')\"\n",
              "              title=\"Convert this dataframe to an interactive table.\"\n",
              "              style=\"display:none;\">\n",
              "        \n",
              "  <svg xmlns=\"http://www.w3.org/2000/svg\" height=\"24px\"viewBox=\"0 0 24 24\"\n",
              "       width=\"24px\">\n",
              "    <path d=\"M0 0h24v24H0V0z\" fill=\"none\"/>\n",
              "    <path d=\"M18.56 5.44l.94 2.06.94-2.06 2.06-.94-2.06-.94-.94-2.06-.94 2.06-2.06.94zm-11 1L8.5 8.5l.94-2.06 2.06-.94-2.06-.94L8.5 2.5l-.94 2.06-2.06.94zm10 10l.94 2.06.94-2.06 2.06-.94-2.06-.94-.94-2.06-.94 2.06-2.06.94z\"/><path d=\"M17.41 7.96l-1.37-1.37c-.4-.4-.92-.59-1.43-.59-.52 0-1.04.2-1.43.59L10.3 9.45l-7.72 7.72c-.78.78-.78 2.05 0 2.83L4 21.41c.39.39.9.59 1.41.59.51 0 1.02-.2 1.41-.59l7.78-7.78 2.81-2.81c.8-.78.8-2.07 0-2.86zM5.41 20L4 18.59l7.72-7.72 1.47 1.35L5.41 20z\"/>\n",
              "  </svg>\n",
              "      </button>\n",
              "      \n",
              "  <style>\n",
              "    .colab-df-container {\n",
              "      display:flex;\n",
              "      flex-wrap:wrap;\n",
              "      gap: 12px;\n",
              "    }\n",
              "\n",
              "    .colab-df-convert {\n",
              "      background-color: #E8F0FE;\n",
              "      border: none;\n",
              "      border-radius: 50%;\n",
              "      cursor: pointer;\n",
              "      display: none;\n",
              "      fill: #1967D2;\n",
              "      height: 32px;\n",
              "      padding: 0 0 0 0;\n",
              "      width: 32px;\n",
              "    }\n",
              "\n",
              "    .colab-df-convert:hover {\n",
              "      background-color: #E2EBFA;\n",
              "      box-shadow: 0px 1px 2px rgba(60, 64, 67, 0.3), 0px 1px 3px 1px rgba(60, 64, 67, 0.15);\n",
              "      fill: #174EA6;\n",
              "    }\n",
              "\n",
              "    [theme=dark] .colab-df-convert {\n",
              "      background-color: #3B4455;\n",
              "      fill: #D2E3FC;\n",
              "    }\n",
              "\n",
              "    [theme=dark] .colab-df-convert:hover {\n",
              "      background-color: #434B5C;\n",
              "      box-shadow: 0px 1px 3px 1px rgba(0, 0, 0, 0.15);\n",
              "      filter: drop-shadow(0px 1px 2px rgba(0, 0, 0, 0.3));\n",
              "      fill: #FFFFFF;\n",
              "    }\n",
              "  </style>\n",
              "\n",
              "      <script>\n",
              "        const buttonEl =\n",
              "          document.querySelector('#df-d927eb9e-2c20-42b6-bcb2-d504b0bd531f button.colab-df-convert');\n",
              "        buttonEl.style.display =\n",
              "          google.colab.kernel.accessAllowed ? 'block' : 'none';\n",
              "\n",
              "        async function convertToInteractive(key) {\n",
              "          const element = document.querySelector('#df-d927eb9e-2c20-42b6-bcb2-d504b0bd531f');\n",
              "          const dataTable =\n",
              "            await google.colab.kernel.invokeFunction('convertToInteractive',\n",
              "                                                     [key], {});\n",
              "          if (!dataTable) return;\n",
              "\n",
              "          const docLinkHtml = 'Like what you see? Visit the ' +\n",
              "            '<a target=\"_blank\" href=https://colab.research.google.com/notebooks/data_table.ipynb>data table notebook</a>'\n",
              "            + ' to learn more about interactive tables.';\n",
              "          element.innerHTML = '';\n",
              "          dataTable['output_type'] = 'display_data';\n",
              "          await google.colab.output.renderOutput(dataTable, element);\n",
              "          const docLink = document.createElement('div');\n",
              "          docLink.innerHTML = docLinkHtml;\n",
              "          element.appendChild(docLink);\n",
              "        }\n",
              "      </script>\n",
              "    </div>\n",
              "  </div>\n",
              "  "
            ]
          },
          "metadata": {},
          "execution_count": 37
        }
      ]
    },
    {
      "cell_type": "code",
      "source": [
        "# ADR Across each month\n",
        "plt.figure(figsize=(22,10))\n",
        "sns.lineplot(x=booking_by_months[\"arrival_date_month\"],y=booking_by_months[\"adr\"],hue=booking_by_months[\"hotel\"])\n",
        "\n",
        "plt.title(\"ADR across each months\",fontsize=20)\n",
        "plt.xlabel(\"Month\",fontsize=15)\n",
        "plt.ylabel(\"ADR\",fontsize=15)"
      ],
      "metadata": {
        "id": "Td3_V5MKNCLA",
        "colab": {
          "base_uri": "https://localhost:8080/",
          "height": 650
        },
        "outputId": "6d37687d-e675-4333-9b02-d3dba20b54f9"
      },
      "execution_count": 38,
      "outputs": [
        {
          "output_type": "execute_result",
          "data": {
            "text/plain": [
              "Text(0, 0.5, 'ADR')"
            ]
          },
          "metadata": {},
          "execution_count": 38
        },
        {
          "output_type": "display_data",
          "data": {
            "text/plain": [
              "<Figure size 1584x720 with 1 Axes>"
            ],
            "image/png": "[encoded data removed]"
          },
          "metadata": {
            "needs_background": "light"
          }
        }
      ]
    },
    {
      "cell_type": "markdown",
      "source": [
        "**Insights from graph**\n",
        "-  **For Resort hotel ADR is high in the month of June,July,August as compared to the city hotels.The reason maybe that the people want to spent their summer vacation in resort hotel**"
      ],
      "metadata": {
        "id": "HS0JRJI4wTLA"
      }
    },
    {
      "cell_type": "code",
      "source": [
        "# Room type preference and customer types\n",
        "plt.figure(figsize=(20,10))\n",
        "sns.countplot(x=df[\"assigned_room_type\"],order=df[\"assigned_room_type\"].value_counts().index)\n",
        "plt.xlabel(\"Room Type\",fontsize=15)\n",
        "plt.ylabel(\"Count of Room Type\",fontsize=15)\n",
        "plt.title(\"Most Preferred Room type\",fontsize=15)"
      ],
      "metadata": {
        "id": "GkVKifSfNCNk",
        "colab": {
          "base_uri": "https://localhost:8080/",
          "height": 646
        },
        "outputId": "ca792758-d02c-4519-8272-20e843a07433"
      },
      "execution_count": 39,
      "outputs": [
        {
          "output_type": "execute_result",
          "data": {
            "text/plain": [
              "Text(0.5, 1.0, 'Most Preferred Room type')"
            ]
          },
          "metadata": {},
          "execution_count": 39
        },
        {
          "output_type": "display_data",
          "data": {
            "text/plain": [
              "<Figure size 1440x720 with 1 Axes>"
            ],
            "image/png": "[encoded data removed]"
          },
          "metadata": {
            "needs_background": "light"
          }
        }
      ]
    },
    {
      "cell_type": "markdown",
      "source": [
        "**Insights from the chart**\n",
        "- **From the above chart it is found that the transient type of customers visit the most whereas the visitors who are in group comes in the category of least visitors.** "
      ],
      "metadata": {
        "id": "NFKI9xZ5wXsK"
      }
    },
    {
      "cell_type": "code",
      "source": [
        "# Types of customer arrived month wise\n",
        "plt.figure(figsize=(16,7))\n",
        "sns.countplot(x=\"arrival_date_month\",hue=\"customer_type\",palette=\"Set2\",data=df)\n",
        "plt.title(\"Types of customer arrived month wise\",fontsize=18)\n",
        "plt.xlabel(\"Number of customer\",fontsize=15)\n",
        "plt.ylabel(\"Months\",fontsize=15)"
      ],
      "metadata": {
        "id": "iMI_otGMNCPZ",
        "colab": {
          "base_uri": "https://localhost:8080/",
          "height": 485
        },
        "outputId": "b968428e-c8ef-4aa9-bc28-4c158ef8ad28"
      },
      "execution_count": 40,
      "outputs": [
        {
          "output_type": "execute_result",
          "data": {
            "text/plain": [
              "Text(0, 0.5, 'Months')"
            ]
          },
          "metadata": {},
          "execution_count": 40
        },
        {
          "output_type": "display_data",
          "data": {
            "text/plain": [
              "<Figure size 1152x504 with 1 Axes>"
            ],
            "image/png": "[encoded data removed]"
          },
          "metadata": {
            "needs_background": "light"
          }
        }
      ]
    },
    {
      "cell_type": "markdown",
      "source": [
        "**Insights from the chart**\n",
        "- **From the above graph it can be seen that transient type of customers visit the most whereas the visitors who are in group comes in the category of least visitors.**"
      ],
      "metadata": {
        "id": "gldYEoz3wcEC"
      }
    },
    {
      "cell_type": "code",
      "source": [
        "# Top 10 Countries with Reservation Cancelled\n",
        "cancelled_data = df[df[\"is_canceled\"] == 1]\n",
        "\n",
        "top_10_country = cancelled_data[\"country\"].value_counts()[:10]\n",
        "plt.figure(figsize =(8,8))\n",
        "plt.title(\"Top 10 countries with reservation cancelled\",fontsize=15)\n",
        "plt.pie(top_10_country,labels=top_10_country.index,explode=[0.0,0.2,0.0,0.0,0.0,0.0,0.0,0.0,0.0,0.0,],autopct=\"%0.1f%%\",shadow=True,radius=1,startangle=180\n",
        "       ,textprops={\"fontsize\":15},counterclock=False,wedgeprops={\"linewidth\":2,\"edgecolor\":\"black\"},rotatelabels=False)\n",
        "plt.legend(bbox_to_anchor=(1,1.1),loc=\"upper left\")"
      ],
      "metadata": {
        "id": "ThHhnp0eNCRw",
        "colab": {
          "base_uri": "https://localhost:8080/",
          "height": 522
        },
        "outputId": "3261f6e1-5eeb-4e95-d0ae-2489daace60b"
      },
      "execution_count": 41,
      "outputs": [
        {
          "output_type": "execute_result",
          "data": {
            "text/plain": [
              "<matplotlib.legend.Legend at 0x7fbfdd10d670>"
            ]
          },
          "metadata": {},
          "execution_count": 41
        },
        {
          "output_type": "display_data",
          "data": {
            "text/plain": [
              "<Figure size 576x576 with 1 Axes>"
            ],
            "image/png": "[encoded data removed]"
          },
          "metadata": {}
        }
      ]
    },
    {
      "cell_type": "markdown",
      "source": [
        "**Insights from graph**\n",
        "- **PRT(Portugal)has the highest Reservation Cancellation Rates i.e 49.5%**\n",
        "- **BEL(Belarus)has the Lowest Reservation Cancellation Rates i.e 2.1%**"
      ],
      "metadata": {
        "id": "DkbhdQ1dwk2f"
      }
    },
    {
      "cell_type": "code",
      "source": [
        "df[\"market_segment\"].value_counts()"
      ],
      "metadata": {
        "id": "2XdCQ_qdNCT2",
        "colab": {
          "base_uri": "https://localhost:8080/"
        },
        "outputId": "a8efab62-9056-4fbd-fce9-66378717a08a"
      },
      "execution_count": 42,
      "outputs": [
        {
          "output_type": "execute_result",
          "data": {
            "text/plain": [
              "Online TA        51534\n",
              "Offline TA/TO    13848\n",
              "Direct           11645\n",
              "Groups            4936\n",
              "Corporate         4025\n",
              "Complementary      698\n",
              "Aviation           227\n",
              "Name: market_segment, dtype: int64"
            ]
          },
          "metadata": {},
          "execution_count": 42
        }
      ]
    },
    {
      "cell_type": "code",
      "source": [
        "# Market Segment Percentage \n",
        "\n",
        "x=df[\"market_segment\"].value_counts(normalize = True)\n",
        "plt.figure(figsize =(8,8))\n",
        "plt.title(\"Market segment percentage\",fontsize=15)\n",
        "plt.pie(x,labels=x.index,explode=[0.0,0.2,0.0,0.0,0.0,0.0,0.0],autopct=\"%0.1f%%\",shadow=True,radius=1,startangle=180,textprops={\"fontsize\":15},counterclock=False,\n",
        "wedgeprops={\"linewidth\":2,\"edgecolor\":\"black\"},rotatelabels=False)\n",
        "plt.legend(bbox_to_anchor=(1,1),loc=\"upper left\")\n",
        "\n",
        "x"
      ],
      "metadata": {
        "id": "fmyh1oWqNCV6",
        "colab": {
          "base_uri": "https://localhost:8080/",
          "height": 630
        },
        "outputId": "1f6f2058-a501-4375-b536-c5071b93571c"
      },
      "execution_count": 43,
      "outputs": [
        {
          "output_type": "execute_result",
          "data": {
            "text/plain": [
              "Online TA        0.592938\n",
              "Offline TA/TO    0.159332\n",
              "Direct           0.133985\n",
              "Groups           0.056792\n",
              "Corporate        0.046311\n",
              "Complementary    0.008031\n",
              "Aviation         0.002612\n",
              "Name: market_segment, dtype: float64"
            ]
          },
          "metadata": {},
          "execution_count": 43
        },
        {
          "output_type": "display_data",
          "data": {
            "text/plain": [
              "<Figure size 576x576 with 1 Axes>"
            ],
            "image/png": "[encoded data removed]"
          },
          "metadata": {}
        }
      ]
    },
    {
      "cell_type": "code",
      "source": [
        "# Cancellation Percentage according to market segment\n",
        "\n",
        "y=cancelled_data[\"market_segment\"].value_counts(normalize = True)\n",
        "\n",
        "plt.figure(figsize =(8,8))\n",
        "plt.title(\"Cancellation Percentage according to market segment\",fontsize=15)\n",
        "plt.pie(y,labels=y.index,explode=[0.0,0.0,0.2,0.0,0.0,0.0,0.0],autopct=\"%0.1f%%\",shadow=True,radius=1,startangle=180,textprops={\"fontsize\":15},counterclock=False,\n",
        "wedgeprops={\"linewidth\":2,\"edgecolor\":\"black\"},rotatelabels=False)\n",
        "plt.legend(bbox_to_anchor=(1,1),loc=\"upper left\")\n",
        "\n",
        "y"
      ],
      "metadata": {
        "id": "WNfye2jYNCX5",
        "colab": {
          "base_uri": "https://localhost:8080/",
          "height": 630
        },
        "outputId": "0a115376-ba47-42e4-81f1-7b34c7676400"
      },
      "execution_count": 44,
      "outputs": [
        {
          "output_type": "execute_result",
          "data": {
            "text/plain": [
              "Online TA        0.760696\n",
              "Offline TA/TO    0.085606\n",
              "Direct           0.071846\n",
              "Groups           0.055667\n",
              "Corporate        0.020724\n",
              "Complementary    0.003586\n",
              "Aviation         0.001876\n",
              "Name: market_segment, dtype: float64"
            ]
          },
          "metadata": {},
          "execution_count": 44
        },
        {
          "output_type": "display_data",
          "data": {
            "text/plain": [
              "<Figure size 576x576 with 1 Axes>"
            ],
            "image/png": "[encoded data removed]"
          },
          "metadata": {}
        }
      ]
    },
    {
      "cell_type": "code",
      "source": [
        "# Repeated Guest Percentage\n",
        "repeated_guests_count = df['is_repeated_guest'].value_counts()\n",
        "\n",
        "plt.figure(figsize =(8,8))\n",
        "plt.title(\"Repeated Guest Percentage\",fontsize=15)\n",
        "plt.pie(repeated_guests_count,labels=repeated_guests_count.index,explode=[0.0,0.2],autopct=\"%0.1f%%\",shadow=True,radius=1,startangle=180,textprops={\"fontsize\":15},counterclock=False,\n",
        "wedgeprops={\"linewidth\":2,\"edgecolor\":\"black\"},rotatelabels=False)\n",
        "plt.legend([\"Not Repeated\",\"Repeated\"],bbox_to_anchor=(0.80,0.90),loc=\"upper left\")\n",
        "\n",
        "repeated_guests_count"
      ],
      "metadata": {
        "id": "JiBGQsU-NCbz",
        "colab": {
          "base_uri": "https://localhost:8080/",
          "height": 539
        },
        "outputId": "6f22e902-b4c7-4258-e41d-0ee525d16d96"
      },
      "execution_count": 45,
      "outputs": [
        {
          "output_type": "execute_result",
          "data": {
            "text/plain": [
              "0    83502\n",
              "1     3411\n",
              "Name: is_repeated_guest, dtype: int64"
            ]
          },
          "metadata": {},
          "execution_count": 45
        },
        {
          "output_type": "display_data",
          "data": {
            "text/plain": [
              "<Figure size 576x576 with 1 Axes>"
            ],
            "image/png": "[encoded data removed]"
          },
          "metadata": {}
        }
      ]
    },
    {
      "cell_type": "markdown",
      "source": [
        "**Insights from graph**\n",
        "- **Repeated Guest are very few which is only 3.9% while 96.1% guest not returning to the same hotel.**\n",
        "\n",
        "- **The portion of repeated guest is very much low so if the hotels imporove their service the then the incresase in number of repeated guest will ultimately boost their revenue**\n",
        "\n",
        "- **Right steps should be taken like taking feedback,solving problems of customers within time limit and offering best offers to the customers.**"
      ],
      "metadata": {
        "id": "gasVyjfryy-z"
      }
    },
    {
      "cell_type": "code",
      "source": [
        "# Most Preferred Food\n",
        "preferred_food = df['meal'].value_counts()\n",
        "preferred_food\n",
        "\n",
        "plt.figure(figsize=(14,7))\n",
        "sns.countplot(x=df['meal'],order=df['meal'].value_counts().index,palette=\"Set2\")\n",
        "plt.title(\"Most preferred Meal\", fontsize = 20)\n",
        "plt.xlabel('Type of the Meal', fontsize = 15)\n",
        "plt.ylabel('Food type count', fontsize = 15)"
      ],
      "metadata": {
        "id": "hOGJjx60NCex",
        "colab": {
          "base_uri": "https://localhost:8080/",
          "height": 486
        },
        "outputId": "ccd16658-aa82-489d-9b93-7416dfd60ef2"
      },
      "execution_count": 46,
      "outputs": [
        {
          "output_type": "execute_result",
          "data": {
            "text/plain": [
              "Text(0, 0.5, 'Food type count')"
            ]
          },
          "metadata": {},
          "execution_count": 46
        },
        {
          "output_type": "display_data",
          "data": {
            "text/plain": [
              "<Figure size 1008x504 with 1 Axes>"
            ],
            "image/png": "[encoded data removed]"
          },
          "metadata": {
            "needs_background": "light"
          }
        }
      ]
    },
    {
      "cell_type": "markdown",
      "source": [
        "**Insights from graph**\n",
        "\n",
        "- **This count plot gives insights that the most preferred meal type is BB(Bread and Breakfast)and FB(Full Board) is the least preferred meal type by the guest.** \n",
        "\n",
        "- **So the insight here is that the hotels need to focus more on there BB Meal type as most customers are satisfied with this meal type.**"
      ],
      "metadata": {
        "id": "OZ8jESQcy2Cb"
      }
    },
    {
      "cell_type": "code",
      "execution_count": 47,
      "metadata": {
        "id": "gg0PXmQ-gSz9",
        "colab": {
          "base_uri": "https://localhost:8080/",
          "height": 425
        },
        "outputId": "50bc0db9-02bf-416d-e95f-5daaac714992"
      },
      "outputs": [
        {
          "output_type": "execute_result",
          "data": {
            "text/plain": [
              "   arrival_date_month  Counts of booking\n",
              "4             January               4636\n",
              "3            February               6040\n",
              "7               March               7456\n",
              "0               April               7869\n",
              "8                 May               8341\n",
              "6                June               7752\n",
              "5                July              10020\n",
              "1              August              11229\n",
              "11          September               6657\n",
              "10            October               6883\n",
              "9            November               4950\n",
              "2            December               5080"
            ],
            "text/html": [
              "\n",
              "  <div id=\"df-d6a2a353-78af-42c5-88bd-06b3ff046acb\">\n",
              "    <div class=\"colab-df-container\">\n",
              "      <div>\n",
              "<style scoped>\n",
              "    .dataframe tbody tr th:only-of-type {\n",
              "        vertical-align: middle;\n",
              "    }\n",
              "\n",
              "    .dataframe tbody tr th {\n",
              "        vertical-align: top;\n",
              "    }\n",
              "\n",
              "    .dataframe thead th {\n",
              "        text-align: right;\n",
              "    }\n",
              "</style>\n",
              "<table border=\"1\" class=\"dataframe\">\n",
              "  <thead>\n",
              "    <tr style=\"text-align: right;\">\n",
              "      <th></th>\n",
              "      <th>arrival_date_month</th>\n",
              "      <th>Counts of booking</th>\n",
              "    </tr>\n",
              "  </thead>\n",
              "  <tbody>\n",
              "    <tr>\n",
              "      <th>4</th>\n",
              "      <td>January</td>\n",
              "      <td>4636</td>\n",
              "    </tr>\n",
              "    <tr>\n",
              "      <th>3</th>\n",
              "      <td>February</td>\n",
              "      <td>6040</td>\n",
              "    </tr>\n",
              "    <tr>\n",
              "      <th>7</th>\n",
              "      <td>March</td>\n",
              "      <td>7456</td>\n",
              "    </tr>\n",
              "    <tr>\n",
              "      <th>0</th>\n",
              "      <td>April</td>\n",
              "      <td>7869</td>\n",
              "    </tr>\n",
              "    <tr>\n",
              "      <th>8</th>\n",
              "      <td>May</td>\n",
              "      <td>8341</td>\n",
              "    </tr>\n",
              "    <tr>\n",
              "      <th>6</th>\n",
              "      <td>June</td>\n",
              "      <td>7752</td>\n",
              "    </tr>\n",
              "    <tr>\n",
              "      <th>5</th>\n",
              "      <td>July</td>\n",
              "      <td>10020</td>\n",
              "    </tr>\n",
              "    <tr>\n",
              "      <th>1</th>\n",
              "      <td>August</td>\n",
              "      <td>11229</td>\n",
              "    </tr>\n",
              "    <tr>\n",
              "      <th>11</th>\n",
              "      <td>September</td>\n",
              "      <td>6657</td>\n",
              "    </tr>\n",
              "    <tr>\n",
              "      <th>10</th>\n",
              "      <td>October</td>\n",
              "      <td>6883</td>\n",
              "    </tr>\n",
              "    <tr>\n",
              "      <th>9</th>\n",
              "      <td>November</td>\n",
              "      <td>4950</td>\n",
              "    </tr>\n",
              "    <tr>\n",
              "      <th>2</th>\n",
              "      <td>December</td>\n",
              "      <td>5080</td>\n",
              "    </tr>\n",
              "  </tbody>\n",
              "</table>\n",
              "</div>\n",
              "      <button class=\"colab-df-convert\" onclick=\"convertToInteractive('df-d6a2a353-78af-42c5-88bd-06b3ff046acb')\"\n",
              "              title=\"Convert this dataframe to an interactive table.\"\n",
              "              style=\"display:none;\">\n",
              "        \n",
              "  <svg xmlns=\"http://www.w3.org/2000/svg\" height=\"24px\"viewBox=\"0 0 24 24\"\n",
              "       width=\"24px\">\n",
              "    <path d=\"M0 0h24v24H0V0z\" fill=\"none\"/>\n",
              "    <path d=\"M18.56 5.44l.94 2.06.94-2.06 2.06-.94-2.06-.94-.94-2.06-.94 2.06-2.06.94zm-11 1L8.5 8.5l.94-2.06 2.06-.94-2.06-.94L8.5 2.5l-.94 2.06-2.06.94zm10 10l.94 2.06.94-2.06 2.06-.94-2.06-.94-.94-2.06-.94 2.06-2.06.94z\"/><path d=\"M17.41 7.96l-1.37-1.37c-.4-.4-.92-.59-1.43-.59-.52 0-1.04.2-1.43.59L10.3 9.45l-7.72 7.72c-.78.78-.78 2.05 0 2.83L4 21.41c.39.39.9.59 1.41.59.51 0 1.02-.2 1.41-.59l7.78-7.78 2.81-2.81c.8-.78.8-2.07 0-2.86zM5.41 20L4 18.59l7.72-7.72 1.47 1.35L5.41 20z\"/>\n",
              "  </svg>\n",
              "      </button>\n",
              "      \n",
              "  <style>\n",
              "    .colab-df-container {\n",
              "      display:flex;\n",
              "      flex-wrap:wrap;\n",
              "      gap: 12px;\n",
              "    }\n",
              "\n",
              "    .colab-df-convert {\n",
              "      background-color: #E8F0FE;\n",
              "      border: none;\n",
              "      border-radius: 50%;\n",
              "      cursor: pointer;\n",
              "      display: none;\n",
              "      fill: #1967D2;\n",
              "      height: 32px;\n",
              "      padding: 0 0 0 0;\n",
              "      width: 32px;\n",
              "    }\n",
              "\n",
              "    .colab-df-convert:hover {\n",
              "      background-color: #E2EBFA;\n",
              "      box-shadow: 0px 1px 2px rgba(60, 64, 67, 0.3), 0px 1px 3px 1px rgba(60, 64, 67, 0.15);\n",
              "      fill: #174EA6;\n",
              "    }\n",
              "\n",
              "    [theme=dark] .colab-df-convert {\n",
              "      background-color: #3B4455;\n",
              "      fill: #D2E3FC;\n",
              "    }\n",
              "\n",
              "    [theme=dark] .colab-df-convert:hover {\n",
              "      background-color: #434B5C;\n",
              "      box-shadow: 0px 1px 3px 1px rgba(0, 0, 0, 0.15);\n",
              "      filter: drop-shadow(0px 1px 2px rgba(0, 0, 0, 0.3));\n",
              "      fill: #FFFFFF;\n",
              "    }\n",
              "  </style>\n",
              "\n",
              "      <script>\n",
              "        const buttonEl =\n",
              "          document.querySelector('#df-d6a2a353-78af-42c5-88bd-06b3ff046acb button.colab-df-convert');\n",
              "        buttonEl.style.display =\n",
              "          google.colab.kernel.accessAllowed ? 'block' : 'none';\n",
              "\n",
              "        async function convertToInteractive(key) {\n",
              "          const element = document.querySelector('#df-d6a2a353-78af-42c5-88bd-06b3ff046acb');\n",
              "          const dataTable =\n",
              "            await google.colab.kernel.invokeFunction('convertToInteractive',\n",
              "                                                     [key], {});\n",
              "          if (!dataTable) return;\n",
              "\n",
              "          const docLinkHtml = 'Like what you see? Visit the ' +\n",
              "            '<a target=\"_blank\" href=https://colab.research.google.com/notebooks/data_table.ipynb>data table notebook</a>'\n",
              "            + ' to learn more about interactive tables.';\n",
              "          element.innerHTML = '';\n",
              "          dataTable['output_type'] = 'display_data';\n",
              "          await google.colab.output.renderOutput(dataTable, element);\n",
              "          const docLink = document.createElement('div');\n",
              "          docLink.innerHTML = docLinkHtml;\n",
              "          element.appendChild(docLink);\n",
              "        }\n",
              "      </script>\n",
              "    </div>\n",
              "  </div>\n",
              "  "
            ]
          },
          "metadata": {},
          "execution_count": 47
        }
      ],
      "source": [
        "# Number of Bookings in Months\n",
        "bookings_by_months=df.groupby(['arrival_date_month'])['hotel'].count().reset_index().rename(columns={'hotel':\"Counts of booking\"})\n",
        "sequence_of_months = ['January', 'February', 'March', 'April', 'May', 'June', 'July', 'August', 'September', 'October', 'November', 'December']\n",
        "bookings_by_months['arrival_date_month']=pd.Categorical(bookings_by_months['arrival_date_month'],categories=sequence_of_months,ordered=True)\n",
        "bookings_by_months=bookings_by_months.sort_values('arrival_date_month')\n",
        "bookings_by_months"
      ]
    },
    {
      "cell_type": "code",
      "execution_count": 48,
      "metadata": {
        "id": "n9Y5clQzgS2U",
        "colab": {
          "base_uri": "https://localhost:8080/",
          "height": 486
        },
        "outputId": "4f9f4d0d-ac84-4ee1-ef9e-cfeeaa2dced1"
      },
      "outputs": [
        {
          "output_type": "execute_result",
          "data": {
            "text/plain": [
              "Text(0, 0.5, 'Number of Bookings')"
            ]
          },
          "metadata": {},
          "execution_count": 48
        },
        {
          "output_type": "display_data",
          "data": {
            "text/plain": [
              "<Figure size 1008x504 with 1 Axes>"
            ],
            "image/png": "[encoded data removed]"
          },
          "metadata": {
            "needs_background": "light"
          }
        }
      ],
      "source": [
        "# Number of Bookings in Months\n",
        "plt.figure(figsize=(14,7))\n",
        "sns.barplot(data=bookings_by_months, x=\"arrival_date_month\", y=\"Counts of booking\")\n",
        "plt.title(\"Number of Bookings in Months\", fontsize = 20)\n",
        "plt.xlabel('Month', fontsize = 15)\n",
        "plt.ylabel('Number of Bookings', fontsize = 15)"
      ]
    },
    {
      "cell_type": "markdown",
      "source": [
        "**Insights from chart**\n",
        "- **In this bar chart we can see that August month shows most highest bookings and july month shows second highest booking**\n",
        "\n",
        "- **January month shows least number of bookings**\n",
        "\n",
        "- **It gives insights that during  july and august month there are more customers.**\n",
        "\n",
        "- **Hotels can increase this numbers by giving some interesting discounts or free gifts to customers**"
      ],
      "metadata": {
        "id": "siF00mWIy6t2"
      }
    },
    {
      "cell_type": "code",
      "execution_count": 49,
      "metadata": {
        "id": "L429u3CCgS4v",
        "colab": {
          "base_uri": "https://localhost:8080/",
          "height": 112
        },
        "outputId": "918f4656-7307-4b86-aaaa-171eabaa8cfa"
      },
      "outputs": [
        {
          "output_type": "execute_result",
          "data": {
            "text/plain": [
              "          hotel  days_in_waiting_list\n",
              "0    City Hotel               1.02071\n",
              "1  Resort Hotel               0.32826"
            ],
            "text/html": [
              "\n",
              "  <div id=\"df-83a6b298-c21c-4fe5-baab-670de488144c\">\n",
              "    <div class=\"colab-df-container\">\n",
              "      <div>\n",
              "<style scoped>\n",
              "    .dataframe tbody tr th:only-of-type {\n",
              "        vertical-align: middle;\n",
              "    }\n",
              "\n",
              "    .dataframe tbody tr th {\n",
              "        vertical-align: top;\n",
              "    }\n",
              "\n",
              "    .dataframe thead th {\n",
              "        text-align: right;\n",
              "    }\n",
              "</style>\n",
              "<table border=\"1\" class=\"dataframe\">\n",
              "  <thead>\n",
              "    <tr style=\"text-align: right;\">\n",
              "      <th></th>\n",
              "      <th>hotel</th>\n",
              "      <th>days_in_waiting_list</th>\n",
              "    </tr>\n",
              "  </thead>\n",
              "  <tbody>\n",
              "    <tr>\n",
              "      <th>0</th>\n",
              "      <td>City Hotel</td>\n",
              "      <td>1.02071</td>\n",
              "    </tr>\n",
              "    <tr>\n",
              "      <th>1</th>\n",
              "      <td>Resort Hotel</td>\n",
              "      <td>0.32826</td>\n",
              "    </tr>\n",
              "  </tbody>\n",
              "</table>\n",
              "</div>\n",
              "      <button class=\"colab-df-convert\" onclick=\"convertToInteractive('df-83a6b298-c21c-4fe5-baab-670de488144c')\"\n",
              "              title=\"Convert this dataframe to an interactive table.\"\n",
              "              style=\"display:none;\">\n",
              "        \n",
              "  <svg xmlns=\"http://www.w3.org/2000/svg\" height=\"24px\"viewBox=\"0 0 24 24\"\n",
              "       width=\"24px\">\n",
              "    <path d=\"M0 0h24v24H0V0z\" fill=\"none\"/>\n",
              "    <path d=\"M18.56 5.44l.94 2.06.94-2.06 2.06-.94-2.06-.94-.94-2.06-.94 2.06-2.06.94zm-11 1L8.5 8.5l.94-2.06 2.06-.94-2.06-.94L8.5 2.5l-.94 2.06-2.06.94zm10 10l.94 2.06.94-2.06 2.06-.94-2.06-.94-.94-2.06-.94 2.06-2.06.94z\"/><path d=\"M17.41 7.96l-1.37-1.37c-.4-.4-.92-.59-1.43-.59-.52 0-1.04.2-1.43.59L10.3 9.45l-7.72 7.72c-.78.78-.78 2.05 0 2.83L4 21.41c.39.39.9.59 1.41.59.51 0 1.02-.2 1.41-.59l7.78-7.78 2.81-2.81c.8-.78.8-2.07 0-2.86zM5.41 20L4 18.59l7.72-7.72 1.47 1.35L5.41 20z\"/>\n",
              "  </svg>\n",
              "      </button>\n",
              "      \n",
              "  <style>\n",
              "    .colab-df-container {\n",
              "      display:flex;\n",
              "      flex-wrap:wrap;\n",
              "      gap: 12px;\n",
              "    }\n",
              "\n",
              "    .colab-df-convert {\n",
              "      background-color: #E8F0FE;\n",
              "      border: none;\n",
              "      border-radius: 50%;\n",
              "      cursor: pointer;\n",
              "      display: none;\n",
              "      fill: #1967D2;\n",
              "      height: 32px;\n",
              "      padding: 0 0 0 0;\n",
              "      width: 32px;\n",
              "    }\n",
              "\n",
              "    .colab-df-convert:hover {\n",
              "      background-color: #E2EBFA;\n",
              "      box-shadow: 0px 1px 2px rgba(60, 64, 67, 0.3), 0px 1px 3px 1px rgba(60, 64, 67, 0.15);\n",
              "      fill: #174EA6;\n",
              "    }\n",
              "\n",
              "    [theme=dark] .colab-df-convert {\n",
              "      background-color: #3B4455;\n",
              "      fill: #D2E3FC;\n",
              "    }\n",
              "\n",
              "    [theme=dark] .colab-df-convert:hover {\n",
              "      background-color: #434B5C;\n",
              "      box-shadow: 0px 1px 3px 1px rgba(0, 0, 0, 0.15);\n",
              "      filter: drop-shadow(0px 1px 2px rgba(0, 0, 0, 0.3));\n",
              "      fill: #FFFFFF;\n",
              "    }\n",
              "  </style>\n",
              "\n",
              "      <script>\n",
              "        const buttonEl =\n",
              "          document.querySelector('#df-83a6b298-c21c-4fe5-baab-670de488144c button.colab-df-convert');\n",
              "        buttonEl.style.display =\n",
              "          google.colab.kernel.accessAllowed ? 'block' : 'none';\n",
              "\n",
              "        async function convertToInteractive(key) {\n",
              "          const element = document.querySelector('#df-83a6b298-c21c-4fe5-baab-670de488144c');\n",
              "          const dataTable =\n",
              "            await google.colab.kernel.invokeFunction('convertToInteractive',\n",
              "                                                     [key], {});\n",
              "          if (!dataTable) return;\n",
              "\n",
              "          const docLinkHtml = 'Like what you see? Visit the ' +\n",
              "            '<a target=\"_blank\" href=https://colab.research.google.com/notebooks/data_table.ipynb>data table notebook</a>'\n",
              "            + ' to learn more about interactive tables.';\n",
              "          element.innerHTML = '';\n",
              "          dataTable['output_type'] = 'display_data';\n",
              "          await google.colab.output.renderOutput(dataTable, element);\n",
              "          const docLink = document.createElement('div');\n",
              "          docLink.innerHTML = docLinkHtml;\n",
              "          element.appendChild(docLink);\n",
              "        }\n",
              "      </script>\n",
              "    </div>\n",
              "  </div>\n",
              "  "
            ]
          },
          "metadata": {},
          "execution_count": 49
        }
      ],
      "source": [
        "# Wating time for each hotel\n",
        "Waiting_time = df.groupby('hotel')['days_in_waiting_list'].mean().reset_index()\n",
        "Waiting_time"
      ]
    },
    {
      "cell_type": "code",
      "execution_count": 50,
      "metadata": {
        "id": "6hQ6AbJRgS62",
        "colab": {
          "base_uri": "https://localhost:8080/",
          "height": 486
        },
        "outputId": "b4de47a9-93fe-450c-9d1c-10c89c887167"
      },
      "outputs": [
        {
          "output_type": "execute_result",
          "data": {
            "text/plain": [
              "Text(0, 0.5, 'Waiting time')"
            ]
          },
          "metadata": {},
          "execution_count": 50
        },
        {
          "output_type": "display_data",
          "data": {
            "text/plain": [
              "<Figure size 1008x504 with 1 Axes>"
            ],
            "image/png": "[encoded data removed]"
          },
          "metadata": {
            "needs_background": "light"
          }
        }
      ],
      "source": [
        "# Waiting time for each hotel type\n",
        "plt.figure(figsize=(14,7))\n",
        "sns.barplot(x=Waiting_time['hotel'],y=Waiting_time['days_in_waiting_list'])\n",
        "plt.title('Waiting time for each hotel type', fontsize=20)\n",
        "plt.xlabel('Type of hotel',fontsize=15)\n",
        "plt.ylabel('Waiting time', fontsize=15)"
      ]
    },
    {
      "cell_type": "markdown",
      "source": [
        "**Insights From Graph**\n",
        "- **City hotel has longer waiting time compared to Resort hotel.**"
      ],
      "metadata": {
        "id": "rB5yDKkozCtu"
      }
    },
    {
      "cell_type": "markdown",
      "source": [
        "# **Conclusion** :-\n",
        "\n",
        "- Hotel Booking cancellation Percentage is 27% which is bit high.Hotels need to find a way to reduce this cancellation percentage\n",
        "\n",
        "- City Hotels are more popular than Resort hotel.but in summer time customers prefer Resort Hotel\n",
        "\n",
        "- The majority of guests come from western europe countries.We should spend a significant amount of our budget on those area.\n",
        "\n",
        "- Around 61% bookings are for City hotel and 39% bookings are for Resort hotel, therefore City Hotel is busier than Resort hotel.\n",
        "\n",
        "- Majority of the hotels booked are city hotel. Definitely need to spend the most targeting fund on those hotel.\n",
        "\n",
        "- We should also target months between May to Aug. Those are peak months due to the summer period.\n",
        "\n",
        "- Given that we do not have repeated guests, we should target our advertisement on guests to increase returning guests.\n",
        "\n",
        "- Transient Type of customers visit the most\n",
        "\n",
        "- Portugal customers cancellation rate is very high i.e 49.5%\n",
        "\n",
        "- Most common stay length is less than 4 days and generally people prefer City hotel for short stay, but for long stays, Resort Hotel is preferred.\n",
        "\n",
        "- November,Descember, February And January are the months which has less booking so in this perios you can get rooms with less average daily rate. And Avoid most busiest months for hotels (May,June,July,August)\n",
        "\n",
        "- Waiting time for city hotel is more than Resort hotel"
      ],
      "metadata": {
        "id": "iG_ak0YczOBQ"
      }
    }
  ],
  "metadata": {
    "colab": {
      "provenance": []
    },
    "kernelspec": {
      "display_name": "Python 3",
      "name": "python3"
    },
    "language_info": {
      "name": "python"
    }
  },
  "nbformat": 4,
  "nbformat_minor": 0
}